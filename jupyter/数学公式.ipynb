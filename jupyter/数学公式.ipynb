{
 "cells": [
  {
   "metadata": {},
   "cell_type": "markdown",
   "source": [
    "1. $$(AB)^T=B^TA^T$$      示例: $(Ax)^T(Ax) == x^TA^TAx$\n",
    "2. 1\\*1 的矩阵, 转置后还是其自身, 如果 A 是 m\\*n 的矩阵, x是n\\*1 的列向量, b 是m\\*1 的列向量, 则 $$b^T(Ax)=[1,m][m,n][n,1]=[1,1]$$ 是 1*1 的矩阵\n",
    "由1中的性质, $$(b^T(Ax))^T = x^TA^Tb$$\n",
    "3. 二次型函数的导数  $$\n",
    "\\frac{\\partial (\\mathbf{x}^T \\mathbf{M} \\mathbf{x})}{\\partial \\mathbf{x}} = 2\\mathbf{M}\\mathbf{x} \\quad (\\text{若 } \\mathbf{M} \\text{ 对称})\n",
    "$$\n",
    "4. 线性项的导数 $$\n",
    "    \\frac{\\partial \\mathbf{c}^T \\mathbf{x}}{\\partial \\mathbf{x}} =  \\mathbf{c} \\quad(\\text{标量函数} \\mathbf{c}^T \\mathbf{x} \\text{对向量} \\mathbf{x} \\text{的导函数等于向量} \\mathbf{c})\n",
    "$$\n",
    "5. 线性方程组 $\\mathbf{M}\\mathbf{x}=\\mathbf{c}$ 若矩阵M可逆(即存在 $M^{-1}$ 满足 $MM^{-1}=M^{-1}M=I$, $I$为单位矩阵), 则解为 $x=M^{-1}c$\n",
    "6. 梯度下降公式 $\\theta_{i+1} = \\theta_i - \\alpha \\nabla_{\\theta_i}J(\\theta_i)$ 其中 $\\alpha$ 是学习率, $\\nabla_{\\theta_i}J(\\theta_i)$ 是梯度"
   ],
   "id": "36f4372b969e62b9"
  },
  {
   "metadata": {},
   "cell_type": "code",
   "outputs": [],
   "execution_count": null,
   "source": "",
   "id": "6cae59f18ade62f4"
  }
 ],
 "metadata": {
  "kernelspec": {
   "display_name": "Python 3",
   "language": "python",
   "name": "python3"
  },
  "language_info": {
   "codemirror_mode": {
    "name": "ipython",
    "version": 2
   },
   "file_extension": ".py",
   "mimetype": "text/x-python",
   "name": "python",
   "nbconvert_exporter": "python",
   "pygments_lexer": "ipython2",
   "version": "2.7.6"
  }
 },
 "nbformat": 4,
 "nbformat_minor": 5
}
