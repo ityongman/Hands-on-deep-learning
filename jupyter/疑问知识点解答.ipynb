{
 "cells": [
  {
   "metadata": {},
   "cell_type": "markdown",
   "source": [
    "- 疑问知识点解答\n",
    "- 问题: 函数 f: R^n -> R 的输入是一个 n 维向量[x1,x2,...,xn]^T, 为什么这里用转置T表示, 而不是 [x1,x2,...,xn] 表示\n",
    "    - 多元函数和线性代数中, 转置符号 T 的使用是为了明确区分行向量与列向量, [x1,x2,...,xn] 表示行向量, [x1,x2,...,xn]^T 表示列向量,"
   ],
   "id": "4023de1ebceab0e2"
  }
 ],
 "metadata": {
  "kernelspec": {
   "display_name": "Python 3",
   "language": "python",
   "name": "python3"
  },
  "language_info": {
   "codemirror_mode": {
    "name": "ipython",
    "version": 2
   },
   "file_extension": ".py",
   "mimetype": "text/x-python",
   "name": "python",
   "nbconvert_exporter": "python",
   "pygments_lexer": "ipython2",
   "version": "2.7.6"
  }
 },
 "nbformat": 4,
 "nbformat_minor": 5
}
