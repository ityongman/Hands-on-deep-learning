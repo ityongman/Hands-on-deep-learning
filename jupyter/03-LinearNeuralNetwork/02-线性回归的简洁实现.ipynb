{
 "cells": [
  {
   "metadata": {},
   "cell_type": "markdown",
   "source": "- 生成数据集",
   "id": "c02452c9022aa787"
  },
  {
   "metadata": {
    "ExecuteTime": {
     "end_time": "2025-09-15T12:57:49.818541Z",
     "start_time": "2025-09-15T12:57:47.092284Z"
    }
   },
   "cell_type": "code",
   "source": [
    "import numpy as np\n",
    "import torch\n",
    "from torch.utils import data\n",
    "from d2l import torch as d2l\n",
    "\n",
    "true_w = torch.tensor([2, -3.4]) # 存在两个变量x1、x2, true_w 分别是它们的系数\n",
    "true_b = 4.2\n",
    "# 基于真实值 true_w, true_b 生成的样本, 1000 num_examples 样本的大小\n",
    "features, labels = d2l.synthetic_data(true_w, true_b, 1000) # 如果 y=Aw+b, 则A是features 1000 * 2的数据集, y是labels 1000 * 1的数据集"
   ],
   "id": "f7f8a8360f7dd658",
   "outputs": [],
   "execution_count": 2
  },
  {
   "metadata": {},
   "cell_type": "markdown",
   "source": "- 读取数据集",
   "id": "13e833608da934fd"
  },
  {
   "metadata": {
    "ExecuteTime": {
     "end_time": "2025-09-15T12:57:51.997068Z",
     "start_time": "2025-09-15T12:57:51.981683Z"
    }
   },
   "cell_type": "code",
   "source": [
    "#@save\n",
    "def load_array(data_arrays, batch_size, is_train=True):\n",
    "    \"\"\"构造一个PyTorch数据迭代器\n",
    "    从数据集 data_arrays 中按照 batch_size 批次大小获取数据\n",
    "\n",
    "    将输入的张量数据（如特征和标签）包装成 PyTorch 数据集, 这里是包装 data_arrays\n",
    "    \"\"\"\n",
    "    dataset = data.TensorDataset(*data_arrays)\n",
    "    # shuffle参数 控制数据集的获取是否随机获取\n",
    "    return data.DataLoader(dataset, batch_size, shuffle=is_train)\n",
    "\n",
    "batch_size = 10\n",
    "data_iter = load_array((features, labels), batch_size)\n",
    "\n",
    "# 测试取第一个数据集\n",
    "# print(next(iter(data_iter)))"
   ],
   "id": "86ac0af590d7999f",
   "outputs": [
    {
     "name": "stdout",
     "output_type": "stream",
     "text": [
      "[tensor([[-0.3052, -0.9843],\n",
      "        [-0.6554, -0.2606],\n",
      "        [-1.1948,  0.6424],\n",
      "        [ 0.1302, -0.8806],\n",
      "        [ 0.0232,  0.8954],\n",
      "        [ 1.5622,  0.7179],\n",
      "        [ 0.5960,  0.6039],\n",
      "        [ 1.0033, -0.3787],\n",
      "        [ 1.3010, -0.3387],\n",
      "        [-1.9440,  0.0229]]), tensor([[ 6.9232],\n",
      "        [ 3.7697],\n",
      "        [-0.3732],\n",
      "        [ 7.4371],\n",
      "        [ 1.2133],\n",
      "        [ 4.8890],\n",
      "        [ 3.3437],\n",
      "        [ 7.4852],\n",
      "        [ 7.9377],\n",
      "        [ 0.2300]])]\n"
     ]
    }
   ],
   "execution_count": 3
  },
  {
   "metadata": {},
   "cell_type": "markdown",
   "source": "- 定义模型",
   "id": "bf41e29973f66d9d"
  },
  {
   "metadata": {
    "ExecuteTime": {
     "end_time": "2025-09-15T13:27:43.619038Z",
     "start_time": "2025-09-15T13:27:43.615123Z"
    }
   },
   "cell_type": "code",
   "source": [
    "from torch import nn\n",
    "\n",
    "# 线性回归模型, 输入两个变量, 输出一个变量\n",
    "# y = Aw +b, A表示输入的两个变量, y表示输出的变量\n",
    "net = nn.Sequential(nn.Linear(2, 1))"
   ],
   "id": "c292a2ac4e20893c",
   "outputs": [],
   "execution_count": 8
  },
  {
   "metadata": {},
   "cell_type": "markdown",
   "source": "- 初始化模型参数",
   "id": "9e42b5e49a62d630"
  },
  {
   "metadata": {
    "ExecuteTime": {
     "end_time": "2025-09-15T13:27:46.111158Z",
     "start_time": "2025-09-15T13:27:46.105532Z"
    }
   },
   "cell_type": "code",
   "source": [
    "# 在新版本的PyTorch中，net[0].weight.data返回的是一个普通的tensor，而不是可以原地修改的tensor对象，因此没有normal()方法\n",
    "\n",
    "nn.init.normal_(net[0].weight, mean=0, std=0.01) # net[0] 的权重符合正态分布, 均值为0, 标准差为0.01\n",
    "nn.init.zeros_(net[0].bias)"
   ],
   "id": "25fe9e21852ac218",
   "outputs": [
    {
     "data": {
      "text/plain": [
       "Parameter containing:\n",
       "tensor([0.], requires_grad=True)"
      ]
     },
     "execution_count": 9,
     "metadata": {},
     "output_type": "execute_result"
    }
   ],
   "execution_count": 9
  },
  {
   "metadata": {},
   "cell_type": "markdown",
   "source": "- 定义损失函数",
   "id": "e73ca68cad16b05a"
  },
  {
   "metadata": {
    "ExecuteTime": {
     "end_time": "2025-09-15T13:27:48.478183Z",
     "start_time": "2025-09-15T13:27:48.474167Z"
    }
   },
   "cell_type": "code",
   "source": "loss = nn.MSELoss(reduction='mean') # 使用均方误差损失函数",
   "id": "998dc21fdc6fd84b",
   "outputs": [],
   "execution_count": 10
  },
  {
   "metadata": {},
   "cell_type": "markdown",
   "source": "- 定义优化算法",
   "id": "f60a5ab3873ceff8"
  },
  {
   "metadata": {
    "ExecuteTime": {
     "end_time": "2025-09-15T13:27:50.559408Z",
     "start_time": "2025-09-15T13:27:50.556298Z"
    }
   },
   "cell_type": "code",
   "source": "trainer = torch.optim.SGD(net.parameters(), lr=0.03)",
   "id": "b1684be09f8ad314",
   "outputs": [],
   "execution_count": 11
  },
  {
   "metadata": {},
   "cell_type": "markdown",
   "source": "- 训练",
   "id": "8ee3f247ee32c56d"
  },
  {
   "metadata": {
    "ExecuteTime": {
     "end_time": "2025-09-15T13:27:52.907171Z",
     "start_time": "2025-09-15T13:27:52.824049Z"
    }
   },
   "cell_type": "code",
   "source": [
    "num_epochs = 3\n",
    "for epoch in range(num_epochs):\n",
    "    for X, y in data_iter: # 迭代数据集 来更新模型参数 w, b\n",
    "        l = loss(net(X), y) # 预估值net(x) 和 实际值y\n",
    "        trainer.zero_grad() # 梯度清零\n",
    "        l.backward() # 反向传播计算梯度\n",
    "        trainer.step() # 更新模型参数\n",
    "    l = loss(net(features), labels)\n",
    "    print(f'epoch {epoch + 1}, loss {l:f}')"
   ],
   "id": "63061ece2f7cfd9a",
   "outputs": [
    {
     "name": "stdout",
     "output_type": "stream",
     "text": [
      "epoch 1, loss 0.000185\n",
      "epoch 2, loss 0.000102\n",
      "epoch 3, loss 0.000102\n"
     ]
    }
   ],
   "execution_count": 12
  },
  {
   "metadata": {
    "ExecuteTime": {
     "end_time": "2025-09-15T13:50:45.796782Z",
     "start_time": "2025-09-15T13:50:45.790244Z"
    }
   },
   "cell_type": "code",
   "source": [
    "w = net[0].weight.data\n",
    "b = net[0].bias.data\n",
    "print(true_w, true_b)\n",
    "print(w, b)\n",
    "\n",
    "print('w的估计误差:', true_w - w.reshape(true_w.shape))\n",
    "print('b的估计误差:', true_b - b)"
   ],
   "id": "afc0259540a0510d",
   "outputs": [
    {
     "name": "stdout",
     "output_type": "stream",
     "text": [
      "tensor([ 2.0000, -3.4000]) 4.2\n",
      "tensor([[ 1.9995, -3.3990]]) tensor([4.2000])\n",
      "w的估计误差: tensor([ 0.0005, -0.0010])\n",
      "b的估计误差: tensor([3.1471e-05])\n"
     ]
    }
   ],
   "execution_count": 17
  },
  {
   "metadata": {},
   "cell_type": "code",
   "outputs": [],
   "execution_count": null,
   "source": "",
   "id": "60083e73d8c409b5"
  }
 ],
 "metadata": {
  "kernelspec": {
   "display_name": "Python 3",
   "language": "python",
   "name": "python3"
  },
  "language_info": {
   "codemirror_mode": {
    "name": "ipython",
    "version": 2
   },
   "file_extension": ".py",
   "mimetype": "text/x-python",
   "name": "python",
   "nbconvert_exporter": "python",
   "pygments_lexer": "ipython2",
   "version": "2.7.6"
  }
 },
 "nbformat": 4,
 "nbformat_minor": 5
}
