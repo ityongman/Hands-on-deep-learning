{
 "cells": [
  {
   "metadata": {},
   "cell_type": "markdown",
   "source": [
    "# 3. 线性神经网络\n",
    "- 3.1 线性回归的从零开始实现"
   ],
   "id": "8113f9de095e5b5b"
  },
  {
   "metadata": {},
   "cell_type": "markdown",
   "source": [
    "1. 构造一个带有噪声的线性模型的输入数据集。\n",
    "2. 使用这个数据集来回复模型参数\n",
    "3. 生成包含 1000 一个样本的数据集, 每个数据集包含2个特征, 这两个特征从标准正太分布中采样得到, 构造成 1000 * 2 的矩阵\n",
    "4. 假设线性模型为 $\\mathbf{y}=\\mathbf{X}\\mathbf{w}+\\mathbf{b} + \\epsilon$\n",
    "4.1 其中 $\\mathbf{w}=[2,-3,4]^T$ 的列向量, b=4.2 $\\epsilon$ 是一个噪声值(是一个均值为0, 方差为0.01的高斯分布)"
   ],
   "id": "a997773f83d6e314"
  },
  {
   "metadata": {
    "ExecuteTime": {
     "end_time": "2025-09-15T01:53:49.323984900Z",
     "start_time": "2025-09-15T01:53:10.298317Z"
    }
   },
   "cell_type": "code",
   "source": [
    "from cProfile import label\n",
    "%matplotlib inline\n",
    "import random\n",
    "import torch\n",
    "from d2l import torch as d2l\n",
    "\n",
    "\n",
    "def synthetic_data(w, b, num_examples):\n",
    "    X = torch.normal(0, 1, (num_examples, len(w)))\n",
    "    y = torch.matmul(X, w) + b\n",
    "    y += torch.normal(0, 0.01, y.shape)\n",
    "    return X, y.reshape(-1, 1) # 将y转为形状为 n 行, 1列的矩阵\n",
    "\n",
    "true_w = torch.tensor([2., -3, 4]) # len(true_w)=3\n",
    "# print(len(true_w))\n",
    "true_b = 4.2\n",
    "# X 是 100 * 3 的矩阵, w 是 3 * 1 的矩阵, Xw -> 1000 * 1 的矩阵\n",
    "features, labels = synthetic_data(true_w, true_b, 1000)\n",
    "# print('features:', features.shape, 'labels:', labels.shape)\n",
    "# print(features[0], labels[0])\n",
    "\n",
    "d2l.set_figsize()\n",
    "d2l.plt.scatter(features[:, (1)].detach().numpy(), labels.detach().numpy(), 1)"
   ],
   "id": "6ac8736dd46de66",
   "outputs": [
    {
     "data": {
      "text/plain": [
       "<matplotlib.collections.PathCollection at 0x277a38f6ea0>"
      ]
     },
     "execution_count": 5,
     "metadata": {},
     "output_type": "execute_result"
    }
   ],
   "execution_count": null
  },
  {
   "metadata": {},
   "cell_type": "code",
   "outputs": [],
   "execution_count": null,
   "source": "",
   "id": "62ffe8ffdcdab625"
  }
 ],
 "metadata": {
  "kernelspec": {
   "display_name": "Python 3",
   "language": "python",
   "name": "python3"
  },
  "language_info": {
   "codemirror_mode": {
    "name": "ipython",
    "version": 2
   },
   "file_extension": ".py",
   "mimetype": "text/x-python",
   "name": "python",
   "nbconvert_exporter": "python",
   "pygments_lexer": "ipython2",
   "version": "2.7.6"
  }
 },
 "nbformat": 4,
 "nbformat_minor": 5
}
