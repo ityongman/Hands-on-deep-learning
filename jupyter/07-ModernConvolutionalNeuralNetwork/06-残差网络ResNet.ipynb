{
 "cells": [
  {
   "metadata": {},
   "cell_type": "markdown",
   "source": [
    "- 1. 残差块\n",
    "\n",
    "ResNet沿用了VGG设计, 使用 3 * 3 的卷积核, 填充为 1, 步长为 1, 输出通道数等于输入通道数, 激活函数为 ReLU"
   ],
   "id": "bbd4e42a1b49d86a"
  },
  {
   "metadata": {
    "ExecuteTime": {
     "end_time": "2025-09-26T14:45:36.715855Z",
     "start_time": "2025-09-26T14:45:36.708399Z"
    }
   },
   "cell_type": "code",
   "source": [
    "from torch import nn\n",
    "from torch.nn import BatchNorm2d\n",
    "from torch.nn import functional as F\n",
    "\n",
    "#@save\n",
    "class ResidualBlock(nn.Module):\n",
    "    def __init__(self, input_channels, num_channels, use_1x1conv=False, strides=1):\n",
    "        super().__init__()\n",
    "        # 定义残差包含的组件, 具体组件之间怎么流转的在 forward 中进行操作\n",
    "        # 残差组件, 包含两个卷积层 、 两个批量规范化层、一个激活层, 卷积层之后跟着规范化层, 如果需要使用1*1卷积层来调整通道数目, 需要在定义一个卷积层\n",
    "\n",
    "        self.conv1 = nn.Conv2d(in_channels=input_channels, out_channels=num_channels, kernel_size=3, padding=1, stride=strides)\n",
    "        self.conv2 = nn.Conv2d(in_channels=num_channels, out_channels=num_channels, kernel_size=3, padding=1) # 第二个卷积层不调整宽高\n",
    "\n",
    "        self.bn1 = BatchNorm2d(num_features=num_channels)\n",
    "        self.bn2 = BatchNorm2d(num_features=num_channels)\n",
    "\n",
    "        if use_1x1conv:\n",
    "            self.conv3 = nn.Conv2d(in_channels=input_channels, out_channels=num_channels, kernel_size=1, stride=strides)\n",
    "        else:\n",
    "            self.conv3 = None\n",
    "\n",
    "    def forward(self, X):\n",
    "        Y = F.relu(self.bn1(self.conv1(X)))\n",
    "        Y = self.bn2(self.conv2(Y))\n",
    "        if self.conv3 is not None:\n",
    "            X = self.conv3(X)\n",
    "        Y += X\n",
    "\n",
    "        return F.relu(Y)\n",
    "\n",
    "import torch\n",
    "\n",
    "blk = ResidualBlock(3, 3)\n",
    "X = torch.randn(4, 3, 6, 6)\n",
    "print(blk(X).shape)"
   ],
   "id": "6ce38f78d5800674",
   "outputs": [
    {
     "name": "stdout",
     "output_type": "stream",
     "text": [
      "torch.Size([4, 3, 6, 6])\n"
     ]
    }
   ],
   "execution_count": 3
  },
  {
   "metadata": {
    "ExecuteTime": {
     "end_time": "2025-09-26T14:46:11.006949Z",
     "start_time": "2025-09-26T14:46:11.000747Z"
    }
   },
   "cell_type": "code",
   "source": [
    "blk = ResidualBlock(3, 6, use_1x1conv=True, strides=2)\n",
    "X = torch.randn(4, 3, 6, 6)\n",
    "print(blk(X).shape)"
   ],
   "id": "2cf68e49f7871ac6",
   "outputs": [
    {
     "name": "stdout",
     "output_type": "stream",
     "text": [
      "torch.Size([4, 6, 3, 3])\n"
     ]
    }
   ],
   "execution_count": 4
  },
  {
   "metadata": {},
   "cell_type": "code",
   "outputs": [],
   "execution_count": null,
   "source": "",
   "id": "8b72759de9b7a464"
  }
 ],
 "metadata": {
  "kernelspec": {
   "display_name": "Python 3",
   "language": "python",
   "name": "python3"
  },
  "language_info": {
   "codemirror_mode": {
    "name": "ipython",
    "version": 2
   },
   "file_extension": ".py",
   "mimetype": "text/x-python",
   "name": "python",
   "nbconvert_exporter": "python",
   "pygments_lexer": "ipython2",
   "version": "2.7.6"
  }
 },
 "nbformat": 4,
 "nbformat_minor": 5
}
