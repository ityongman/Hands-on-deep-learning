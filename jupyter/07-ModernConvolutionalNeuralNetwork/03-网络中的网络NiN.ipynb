{
 "cells": [
  {
   "metadata": {},
   "cell_type": "markdown",
   "source": "- 1. NiN块",
   "id": "196071b572ae523e"
  },
  {
   "metadata": {
    "ExecuteTime": {
     "end_time": "2025-09-25T14:45:21.290015Z",
     "start_time": "2025-09-25T14:45:19.462934Z"
    }
   },
   "cell_type": "code",
   "source": [
    "from numpy.ma.core import reshape\n",
    "from torch import nn\n",
    "\n",
    "# NiN块是 先经过卷积层 -> 1 * 1 卷积层 -> 1 * 1 卷积层\n",
    "def nin_blk(in_channels, out_channels, kernel_size, strides, padding):\n",
    "    return nn.Sequential(\n",
    "        nn.Conv2d(in_channels=in_channels, out_channels=out_channels, kernel_size=kernel_size, padding=padding, stride=strides), nn.ReLU(),\n",
    "        nn.Conv2d(in_channels=out_channels, out_channels=out_channels, kernel_size=1), nn.ReLU(),\n",
    "        nn.Conv2d(in_channels=out_channels, out_channels=out_channels, kernel_size=1), nn.ReLU()\n",
    "    )\n"
   ],
   "id": "e021bf7ad4e5d481",
   "outputs": [],
   "execution_count": 1
  },
  {
   "metadata": {},
   "cell_type": "markdown",
   "source": "- 2. NiN模型",
   "id": "8be70fd12ca6342a"
  },
  {
   "metadata": {
    "ExecuteTime": {
     "end_time": "2025-09-25T14:46:03.851881Z",
     "start_time": "2025-09-25T14:46:03.821865Z"
    }
   },
   "cell_type": "code",
   "source": [
    "\n",
    "net = nn.Sequential(\n",
    "    nin_blk(1, 96, kernel_size=11, strides=4, padding=0),\n",
    "    nn.MaxPool2d(kernel_size=3, stride=2),\n",
    "    nin_blk(96, 256, kernel_size=5, padding=2, strides=1),\n",
    "    nn.MaxPool2d(kernel_size=3, stride=2),\n",
    "    nin_blk(256, 384, kernel_size=3, padding=1, strides=1),\n",
    "    nn.MaxPool2d(kernel_size=3, stride=2),\n",
    "    nn.Dropout(0.5),\n",
    "    nin_blk(384, 10, kernel_size=3, padding=1, strides=1),\n",
    "    nn.AdaptiveAvgPool2d((1, 1)),\n",
    "    # 将四维的输出转成二维的输出，其形状为(批量大小,10)\n",
    "    nn.Flatten(),\n",
    ")\n",
    "\n",
    "\n",
    "# import torch\n",
    "#\n",
    "# X = torch.randn(size=(1, 1, 224, 224))\n",
    "# for layer in net:\n",
    "#     X = layer(X)\n",
    "#     print(layer.__class__.__name__, 'output shape: \\t', X.shape)"
   ],
   "id": "8cdfd6b0debf4074",
   "outputs": [
    {
     "name": "stdout",
     "output_type": "stream",
     "text": [
      "Sequential output shape: \t torch.Size([1, 96, 54, 54])\n",
      "MaxPool2d output shape: \t torch.Size([1, 96, 26, 26])\n",
      "Sequential output shape: \t torch.Size([1, 256, 26, 26])\n",
      "MaxPool2d output shape: \t torch.Size([1, 256, 12, 12])\n",
      "Sequential output shape: \t torch.Size([1, 384, 12, 12])\n",
      "MaxPool2d output shape: \t torch.Size([1, 384, 5, 5])\n",
      "Dropout output shape: \t torch.Size([1, 384, 5, 5])\n",
      "Sequential output shape: \t torch.Size([1, 10, 5, 5])\n",
      "AdaptiveAvgPool2d output shape: \t torch.Size([1, 10, 1, 1])\n",
      "Flatten output shape: \t torch.Size([1, 10])\n"
     ]
    }
   ],
   "execution_count": 3
  },
  {
   "metadata": {},
   "cell_type": "markdown",
   "source": "- 3. 训练模型",
   "id": "b3bab3ea011f5b65"
  },
  {
   "metadata": {},
   "cell_type": "code",
   "outputs": [],
   "execution_count": null,
   "source": [
    "from d2l import torch as d2l\n",
    "\n",
    "lr, num_epochs, batch_size = 0.1, 10, 128\n",
    "train_iter, test_iter = d2l.load_data_fashion_mnist(batch_size, resize=224)\n",
    "d2l.train_ch6(net, train_iter, test_iter, num_epochs, lr, d2l.try_gpu())"
   ],
   "id": "3951ceec66cb14d4"
  }
 ],
 "metadata": {
  "kernelspec": {
   "display_name": "Python 3",
   "language": "python",
   "name": "python3"
  },
  "language_info": {
   "codemirror_mode": {
    "name": "ipython",
    "version": 2
   },
   "file_extension": ".py",
   "mimetype": "text/x-python",
   "name": "python",
   "nbconvert_exporter": "python",
   "pygments_lexer": "ipython2",
   "version": "2.7.6"
  }
 },
 "nbformat": 4,
 "nbformat_minor": 5
}
