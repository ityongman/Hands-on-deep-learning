{
 "cells": [
  {
   "metadata": {},
   "cell_type": "markdown",
   "source": [
    "- 1. 互相关运算\n",
    "\n",
    "输出大小等于输入大小 $n_k * n_w$ 减去卷积核大小 $k_h * k_w$ 即:\n",
    "$(n_h * k_h + 1) * (n_w - k_w + 1)$"
   ],
   "id": "a9082f7ce8ac9030"
  },
  {
   "metadata": {
    "ExecuteTime": {
     "end_time": "2025-09-23T14:41:01.656899Z",
     "start_time": "2025-09-23T14:41:01.650526Z"
    }
   },
   "cell_type": "code",
   "source": [
    "import torch\n",
    "\n",
    "#@save\n",
    "def corr2d(X, K):\n",
    "    \"\"\"计算二维互相关运算\"\"\"\n",
    "    h, w = K.shape\n",
    "    Y = torch.zeros(X.shape[0] - h + 1, X.shape[1] - w + 1)\n",
    "    for i in range(Y.shape[0]):\n",
    "        for j in range(Y.shape[1]):\n",
    "            Y[i, j] = (X[i:i+h, j:j+w] * K).sum()\n",
    "\n",
    "    return Y\n",
    "\n",
    "X = torch.tensor([[0,1,2], [3,4,5], [6,7,8]])\n",
    "K = torch.tensor([[0,1], [2,3]])\n",
    "print(corr2d(X, K))"
   ],
   "id": "bc800f33ae426121",
   "outputs": [
    {
     "name": "stdout",
     "output_type": "stream",
     "text": [
      "tensor([[19., 25.],\n",
      "        [37., 43.]])\n"
     ]
    }
   ],
   "execution_count": 102
  },
  {
   "metadata": {
    "ExecuteTime": {
     "end_time": "2025-09-23T15:02:03.129047Z",
     "start_time": "2025-09-23T15:02:03.122820Z"
    }
   },
   "cell_type": "code",
   "source": [
    "def conv2d_by_mul(X, K):\n",
    "    h, w = K.shape\n",
    "    outh = X.shape[0] - h + 1\n",
    "    outw = X.shape[1] - w + 1\n",
    "    K = K.reshape(-1, 1)\n",
    "    # print('outh', outh, 'outw', outw, 'K.shape ', K.shape)\n",
    "    # print('X ', X)\n",
    "    Y = []   # 张量列表\n",
    "    for i in range(outh):\n",
    "        for j in range(outw):\n",
    "            # print(X[i:i + h, j:j + w].reshape(-1))\n",
    "            Y.append(X[i:i + h, j:j + w].reshape(-1)) # 滑动窗口模式, 窗口里面的元素\n",
    "    print(Y)\n",
    "    Y = torch.stack(Y, 0)\n",
    "    return torch.matmul(Y, K)\n",
    "\n",
    "conv2d_by_mul(X, K)\n",
    "# new_Y = conv2d_by_mul(X, K)\n",
    "# new_Y_2 = torch.stack(new_Y, 0)\n",
    "# print(new_Y)\n",
    "# print(new_Y_2)"
   ],
   "id": "be36669a60c67dc6",
   "outputs": [
    {
     "name": "stdout",
     "output_type": "stream",
     "text": [
      "[tensor([0, 1, 3, 4]), tensor([1, 2, 4, 5]), tensor([3, 4, 6, 7]), tensor([4, 5, 7, 8])]\n"
     ]
    },
    {
     "data": {
      "text/plain": [
       "tensor([[19],\n",
       "        [25],\n",
       "        [37],\n",
       "        [43]])"
      ]
     },
     "execution_count": 123,
     "metadata": {},
     "output_type": "execute_result"
    }
   ],
   "execution_count": 123
  },
  {
   "metadata": {},
   "cell_type": "markdown",
   "source": "- 练习 如何通过改变输入张量和卷积核张量，将互相关运算表示为矩阵乘法？",
   "id": "59931f35cedefe68"
  },
  {
   "metadata": {
    "ExecuteTime": {
     "end_time": "2025-09-23T15:08:03.497685Z",
     "start_time": "2025-09-23T15:08:03.492326Z"
    }
   },
   "cell_type": "code",
   "source": [
    "def conv2d_by_mul(X, K):\n",
    "    h, w = K.shape\n",
    "    outh = X.shape[0] - h + 1\n",
    "    outw = X.shape[1] - w + 1\n",
    "    K = K.reshape(-1, 1)\n",
    "\n",
    "    Y = torch.zeros((outh, outw))\n",
    "    # 张量\n",
    "    for i in range(outh):\n",
    "        for j in range(outw):\n",
    "            # print(X[i:i + h, j:j + w].reshape(-1))\n",
    "            tensor_X = X[i:i + h, j:j + w].reshape(-1)\n",
    "            slice_tensor_X = [tensor_X]\n",
    "            # print(tensor_X)\n",
    "            # print(slice_tensor_X)\n",
    "            new_Y = torch.stack(slice_tensor_X, 0)\n",
    "            # print(new_Y.shape)\n",
    "            # print(K.shape)\n",
    "\n",
    "            Y[i, j] = torch.matmul(new_Y, K)\n",
    "\n",
    "    return Y\n",
    "\n",
    "conv2d_by_mul(X, K)\n",
    "# new_Y = conv2d_by_mul(X, K)\n",
    "# new_Y_2 = torch.stack(new_Y, 0)\n",
    "# print(new_Y)\n",
    "# print(new_Y_2)"
   ],
   "id": "7f75032b31251b5",
   "outputs": [
    {
     "data": {
      "text/plain": [
       "tensor([[19., 25.],\n",
       "        [37., 43.]])"
      ]
     },
     "execution_count": 133,
     "metadata": {},
     "output_type": "execute_result"
    }
   ],
   "execution_count": 133
  },
  {
   "metadata": {},
   "cell_type": "markdown",
   "source": [
    "- 2. 卷积层\n",
    "\n",
    "高度和宽度分别为 $h$ 和 $w$ 的卷积核可以被称为 $h*w$ 卷积或 $h*w$ 卷积核。 我们也将带有 $h*w$ 卷积核的卷积层称为 $h*w$ 卷积层"
   ],
   "id": "8af984e38892a054"
  },
  {
   "metadata": {
    "ExecuteTime": {
     "end_time": "2025-09-23T13:06:18.229267Z",
     "start_time": "2025-09-23T13:06:18.225336Z"
    }
   },
   "cell_type": "code",
   "source": [
    "from torch import nn\n",
    "\n",
    "class Conv2D(nn.Module):\n",
    "    def __init__(self, kernel_size):\n",
    "        super().__init__()\n",
    "        self.weight = nn.Parameter(torch.rand(kernel_size))\n",
    "        self.bias = nn.Parameter(torch.zero(1))\n",
    "\n",
    "    def forward(self, X):\n",
    "        return corr2d(X, self.weight) + self.bias"
   ],
   "id": "28a93592ca8bbb81",
   "outputs": [],
   "execution_count": 23
  },
  {
   "metadata": {},
   "cell_type": "markdown",
   "source": "- 3. 图像中目标的边缘检测",
   "id": "60d4ebaf3571e13e"
  },
  {
   "metadata": {
    "ExecuteTime": {
     "end_time": "2025-09-23T13:06:19.908122Z",
     "start_time": "2025-09-23T13:06:19.902124Z"
    }
   },
   "cell_type": "code",
   "source": [
    "# X = torch.ones((6, 8))\n",
    "X = torch.ones(6, 8)\n",
    "X[:, 2:6] = 0\n",
    "print(X)"
   ],
   "id": "dfcd6ee5ddaeff19",
   "outputs": [
    {
     "name": "stdout",
     "output_type": "stream",
     "text": [
      "tensor([[1., 1., 0., 0., 0., 0., 1., 1.],\n",
      "        [1., 1., 0., 0., 0., 0., 1., 1.],\n",
      "        [1., 1., 0., 0., 0., 0., 1., 1.],\n",
      "        [1., 1., 0., 0., 0., 0., 1., 1.],\n",
      "        [1., 1., 0., 0., 0., 0., 1., 1.],\n",
      "        [1., 1., 0., 0., 0., 0., 1., 1.]])\n"
     ]
    }
   ],
   "execution_count": 24
  },
  {
   "metadata": {},
   "cell_type": "markdown",
   "source": [
    "- 构造一个高度为 1、宽度为 2的卷积核K\n",
    "\n",
    "当进行互相关运算时，如果水平相邻的两元素相同，则输出为零，否则输出为非零"
   ],
   "id": "513557a536044db1"
  },
  {
   "metadata": {
    "ExecuteTime": {
     "end_time": "2025-09-23T13:06:21.830347Z",
     "start_time": "2025-09-23T13:06:21.827316Z"
    }
   },
   "cell_type": "code",
   "source": [
    "K = torch.tensor([[1.0, -1.0]])\n",
    "# print(K)"
   ],
   "id": "1f08f1100a323089",
   "outputs": [],
   "execution_count": 25
  },
  {
   "metadata": {},
   "cell_type": "markdown",
   "source": "- 参数X（输入）和K（卷积核）执行互相关运算。 如下所示，输出Y中的1代表从白色到黑色的边缘，-1代表从黑色到白色的边缘，其他情况的输出为0\n",
   "id": "891d71ac3f6a6beb"
  },
  {
   "metadata": {
    "ExecuteTime": {
     "end_time": "2025-09-23T13:06:23.791804Z",
     "start_time": "2025-09-23T13:06:23.787378Z"
    }
   },
   "cell_type": "code",
   "source": [
    "Y = corr2d(X, K)\n",
    "print(Y)"
   ],
   "id": "d7f60848cf8672ed",
   "outputs": [
    {
     "name": "stdout",
     "output_type": "stream",
     "text": [
      "tensor([[ 0.,  1.,  0.,  0.,  0., -1.,  0.],\n",
      "        [ 0.,  1.,  0.,  0.,  0., -1.,  0.],\n",
      "        [ 0.,  1.,  0.,  0.,  0., -1.,  0.],\n",
      "        [ 0.,  1.,  0.,  0.,  0., -1.,  0.],\n",
      "        [ 0.,  1.,  0.,  0.,  0., -1.,  0.],\n",
      "        [ 0.,  1.,  0.,  0.,  0., -1.,  0.]])\n"
     ]
    }
   ],
   "execution_count": 26
  },
  {
   "metadata": {},
   "cell_type": "markdown",
   "source": "- 将输入的二维图像转置，再进行如上的互相关运算。 其输出如下，之前检测到的垂直边缘消失了。 不出所料，这个卷积核K只可以检测垂直边缘，无法检测水平边缘",
   "id": "eedb831f2729e85b"
  },
  {
   "metadata": {
    "ExecuteTime": {
     "end_time": "2025-09-23T13:06:25.679380Z",
     "start_time": "2025-09-23T13:06:25.673030Z"
    }
   },
   "cell_type": "code",
   "source": "print(corr2d(X.t(), K))",
   "id": "a77db469bdde391f",
   "outputs": [
    {
     "name": "stdout",
     "output_type": "stream",
     "text": [
      "tensor([[0., 0., 0., 0., 0.],\n",
      "        [0., 0., 0., 0., 0.],\n",
      "        [0., 0., 0., 0., 0.],\n",
      "        [0., 0., 0., 0., 0.],\n",
      "        [0., 0., 0., 0., 0.],\n",
      "        [0., 0., 0., 0., 0.],\n",
      "        [0., 0., 0., 0., 0.],\n",
      "        [0., 0., 0., 0., 0.]])\n"
     ]
    }
   ],
   "execution_count": 27
  },
  {
   "metadata": {},
   "cell_type": "markdown",
   "source": "- 4. 学习卷积核",
   "id": "bb6bc94b2f26810d"
  },
  {
   "metadata": {
    "ExecuteTime": {
     "end_time": "2025-09-23T14:24:47.581802Z",
     "start_time": "2025-09-23T14:24:47.570801Z"
    }
   },
   "cell_type": "code",
   "source": [
    "# 构造一个二维卷积层，它具有1个输出通道和形状为（1，2）的卷积核\n",
    "conv2d = nn.Conv2d(in_channels=1, out_channels=1, kernel_size=(1, 2), bias=False)\n",
    "\n",
    "# 这个二维卷积层使用四维输入和输出格式（批量大小、通道、高度、宽度），\n",
    "# 其中批量大小和通道数都为1\n",
    "X = torch.ones(6, 8)\n",
    "X[:, 2:6] = 0\n",
    "K = torch.tensor([[1.0, -1.0]])\n",
    "Y = corr2d(X, K)\n",
    "\n",
    "X = X.reshape(1, 1, 6, 8)\n",
    "Y = Y.reshape(1, 1, 6, 7)\n",
    "\n",
    "lr = 3e-2 # 学习率, 调整这个参数为啥, loss 变化那么大\n",
    "\n",
    "for i in range(10):\n",
    "    Y_hat = conv2d(X)\n",
    "    l = (Y_hat - Y) ** 2\n",
    "    conv2d.zero_grad()\n",
    "    l.sum().backward()\n",
    "    # 迭代卷积核\n",
    "    conv2d.weight.data[:] -= lr * conv2d.weight.grad\n",
    "    if (i+1) % 2 == 0:\n",
    "        print(f'epoch {i+1}, loss {l.sum():.3f}')\n",
    "\n",
    "print(conv2d.weight.data.reshape((1, 2)))"
   ],
   "id": "184b36cee3500689",
   "outputs": [
    {
     "name": "stdout",
     "output_type": "stream",
     "text": [
      "epoch 2, loss 641.640\n",
      "epoch 4, loss 170929.484\n",
      "epoch 6, loss 45534684.000\n",
      "epoch 8, loss 12130191360.000\n",
      "epoch 10, loss 3231417892864.000\n",
      "tensor([[560303.5000, 560303.4375]])\n"
     ]
    }
   ],
   "execution_count": 96
  },
  {
   "metadata": {},
   "cell_type": "markdown",
   "source": [
    "- 构建一个具有对角线边缘的矩阵\n",
    "    - 如果将本节中举例的卷积核K应用于X，会发生什么情况？\n",
    "    - 如果转置X会发生什么？\n",
    "    - 如果转置K会发生什么？"
   ],
   "id": "56c4b146483db4a8"
  },
  {
   "metadata": {
    "ExecuteTime": {
     "end_time": "2025-09-23T13:56:28.774327Z",
     "start_time": "2025-09-23T13:56:28.767002Z"
    }
   },
   "cell_type": "code",
   "source": [
    "import numpy as np\n",
    "\n",
    "n = 4\n",
    "X_main_diag = np.eye(n) # X_custom_main = np.diag(np.full(n, 5))\n",
    "print(X_main_diag)\n",
    "\n",
    "X_main_diag_tensor = torch.tensor(X_main_diag)\n",
    "K = torch.tensor([[1.0, -1.0]])\n",
    "Y = corr2d(X_main_diag_tensor, K)\n",
    "print(Y)\n",
    "\n",
    "print(corr2d(X_main_diag_tensor.t(), K)) # 转置 X\n",
    "print(corr2d(X_main_diag_tensor, K.t())) # 转置 K"
   ],
   "id": "71a82c55b4412fed",
   "outputs": [
    {
     "name": "stdout",
     "output_type": "stream",
     "text": [
      "[[1. 0. 0. 0.]\n",
      " [0. 1. 0. 0.]\n",
      " [0. 0. 1. 0.]\n",
      " [0. 0. 0. 1.]]\n",
      "tensor([[ 1.,  0.,  0.],\n",
      "        [-1.,  1.,  0.],\n",
      "        [ 0., -1.,  1.],\n",
      "        [ 0.,  0., -1.]])\n",
      "tensor([[ 1.,  0.,  0.],\n",
      "        [-1.,  1.,  0.],\n",
      "        [ 0., -1.,  1.],\n",
      "        [ 0.,  0., -1.]])\n",
      "tensor([[ 1., -1.,  0.,  0.],\n",
      "        [ 0.,  1., -1.,  0.],\n",
      "        [ 0.,  0.,  1., -1.]])\n"
     ]
    }
   ],
   "execution_count": 89
  },
  {
   "metadata": {},
   "cell_type": "code",
   "outputs": [],
   "execution_count": null,
   "source": "",
   "id": "e4d33a63d7c8304"
  }
 ],
 "metadata": {
  "kernelspec": {
   "display_name": "Python 3",
   "language": "python",
   "name": "python3"
  },
  "language_info": {
   "codemirror_mode": {
    "name": "ipython",
    "version": 2
   },
   "file_extension": ".py",
   "mimetype": "text/x-python",
   "name": "python",
   "nbconvert_exporter": "python",
   "pygments_lexer": "ipython2",
   "version": "2.7.6"
  }
 },
 "nbformat": 4,
 "nbformat_minor": 5
}
