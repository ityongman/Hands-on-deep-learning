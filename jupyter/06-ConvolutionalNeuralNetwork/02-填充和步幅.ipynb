{
 "cells": [
  {
   "metadata": {},
   "cell_type": "markdown",
   "source": "- 1. 填充",
   "id": "d141a088aa1af926"
  },
  {
   "metadata": {
    "ExecuteTime": {
     "end_time": "2025-09-23T16:57:18.513249Z",
     "start_time": "2025-09-23T16:57:18.507367Z"
    }
   },
   "cell_type": "code",
   "source": [
    "from torch import nn\n",
    "import torch\n",
    "\n",
    "def com_conv2d(conv2d, X):\n",
    "    # 将X的形状变成(批量大小, 通道数, 高度, 宽度), 这里的(1,1) 是批量大小、通道数\n",
    "    X = X.reshape((1,1) + X.shape)\n",
    "    Y = conv2d(X)\n",
    "\n",
    "    # 省略前两个维度, 批量大小、通道数\n",
    "    return Y.reshape(Y.shape[2:])\n",
    "\n",
    "conv2d = nn.Conv2d(1,1, kernel_size=3, padding=1)\n",
    "\n",
    "# X = torch.rand(size=(8,8))\n",
    "X = torch.rand(8,8)\n",
    "print(com_conv2d(conv2d, X).shape)"
   ],
   "id": "8cba50e986421a59",
   "outputs": [
    {
     "name": "stdout",
     "output_type": "stream",
     "text": [
      "torch.Size([8, 8])\n"
     ]
    }
   ],
   "execution_count": 21
  },
  {
   "metadata": {},
   "cell_type": "markdown",
   "source": "- 当卷积核的高度和宽度不同时，我们可以填充不同的高度和宽度，使输出和输入具有相同的高度和宽度",
   "id": "1c91072baad46d5f"
  },
  {
   "metadata": {
    "ExecuteTime": {
     "end_time": "2025-09-23T16:57:38.622790Z",
     "start_time": "2025-09-23T16:57:38.616974Z"
    }
   },
   "cell_type": "code",
   "source": [
    "conv2d = nn.Conv2d(1,1, kernel_size=(5,3), padding=(2,1))\n",
    "print(com_conv2d(conv2d, X).shape)"
   ],
   "id": "1a18f8d8d1a40348",
   "outputs": [
    {
     "name": "stdout",
     "output_type": "stream",
     "text": [
      "torch.Size([8, 8])\n"
     ]
    }
   ],
   "execution_count": 22
  },
  {
   "metadata": {},
   "cell_type": "markdown",
   "source": "- 2. 步幅",
   "id": "c2e05166011ee784"
  },
  {
   "metadata": {
    "ExecuteTime": {
     "end_time": "2025-09-23T16:57:41.481092Z",
     "start_time": "2025-09-23T16:57:41.475212Z"
    }
   },
   "cell_type": "code",
   "source": [
    "conv2d = nn.Conv2d(1, 1, kernel_size=3, padding=1, stride=2)\n",
    "print(com_conv2d(conv2d, X).shape)"
   ],
   "id": "59a9d14a92c759ab",
   "outputs": [
    {
     "name": "stdout",
     "output_type": "stream",
     "text": [
      "torch.Size([4, 4])\n"
     ]
    }
   ],
   "execution_count": 23
  },
  {
   "metadata": {
    "ExecuteTime": {
     "end_time": "2025-09-23T16:57:44.907364Z",
     "start_time": "2025-09-23T16:57:44.901613Z"
    }
   },
   "cell_type": "code",
   "source": [
    "conv2d = nn.Conv2d(1, 1, kernel_size=(3, 5), padding=(0, 1), stride=(3, 4))\n",
    "print(com_conv2d(conv2d, X).shape)"
   ],
   "id": "23730d4cc7ec2f36",
   "outputs": [
    {
     "name": "stdout",
     "output_type": "stream",
     "text": [
      "torch.Size([2, 2])\n"
     ]
    }
   ],
   "execution_count": 24
  },
  {
   "metadata": {
    "ExecuteTime": {
     "end_time": "2025-09-23T16:57:46.891568Z",
     "start_time": "2025-09-23T16:57:46.886152Z"
    }
   },
   "cell_type": "code",
   "source": [
    "conv2d = nn.Conv2d(1, 1, kernel_size=(3, 5), padding=(2, 1), stride=(3, 4))\n",
    "print(com_conv2d(conv2d, X).shape)"
   ],
   "id": "4d9736be1f5a1631",
   "outputs": [
    {
     "name": "stdout",
     "output_type": "stream",
     "text": [
      "torch.Size([4, 2])\n"
     ]
    }
   ],
   "execution_count": 25
  },
  {
   "metadata": {},
   "cell_type": "code",
   "outputs": [],
   "execution_count": null,
   "source": "",
   "id": "e6cd210f23728ef1"
  }
 ],
 "metadata": {
  "kernelspec": {
   "display_name": "Python 3",
   "language": "python",
   "name": "python3"
  },
  "language_info": {
   "codemirror_mode": {
    "name": "ipython",
    "version": 2
   },
   "file_extension": ".py",
   "mimetype": "text/x-python",
   "name": "python",
   "nbconvert_exporter": "python",
   "pygments_lexer": "ipython2",
   "version": "2.7.6"
  }
 },
 "nbformat": 4,
 "nbformat_minor": 5
}
