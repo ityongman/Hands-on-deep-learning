{
 "cells": [
  {
   "metadata": {},
   "cell_type": "markdown",
   "source": "- 1. 最大汇聚层和平均汇聚层",
   "id": "6c6c7242bbc95690"
  },
  {
   "metadata": {
    "ExecuteTime": {
     "end_time": "2025-09-24T14:01:11.111915Z",
     "start_time": "2025-09-24T14:01:11.105820Z"
    }
   },
   "cell_type": "code",
   "source": [
    "import torch\n",
    "\n",
    "\n",
    "def pool2d(X, pool_size, mode='max'):\n",
    "    p_h, p_w = pool_size\n",
    "    Y = torch.zeros(X.shape[0] - p_h + 1, X.shape[1] - p_w + 1)\n",
    "\n",
    "    for i in range(Y.shape[0]):\n",
    "        for j in range(Y.shape[1]):\n",
    "            if mode == 'max':\n",
    "                # Y[i, j] = X[i: i+p_h, j: j + p_w].max()\n",
    "                Y[i, j] = torch.max(X[i: i+p_h, j: j + p_w])\n",
    "            else:\n",
    "                # Y[i,j] = X[i: i+p_h, j: j+p_w].mean()\n",
    "                Y[i,j] = torch.mean(X[i: i+p_h, j: j+p_w])\n",
    "\n",
    "    return Y\n",
    "\n",
    "X = torch.tensor([[0.0, 1.0, 2.0], [3.0, 4.0, 5.0], [6.0, 7.0, 8.0]])\n",
    "print(pool2d(X, (2, 2)))"
   ],
   "id": "b354109b90cd387b",
   "outputs": [
    {
     "name": "stdout",
     "output_type": "stream",
     "text": [
      "tensor([[4., 5.],\n",
      "        [7., 8.]])\n"
     ]
    }
   ],
   "execution_count": 4
  },
  {
   "metadata": {},
   "cell_type": "markdown",
   "source": "- 2. 填充和步幅",
   "id": "467f1a15148f17f1"
  },
  {
   "metadata": {
    "ExecuteTime": {
     "end_time": "2025-09-24T14:07:48.850103Z",
     "start_time": "2025-09-24T14:07:23.740184Z"
    }
   },
   "cell_type": "code",
   "source": [
    "import torch\n",
    "from torch import nn\n",
    "\n",
    "X = torch.arange(16, dtype=torch.float32).reshape(1, 1, 4, 4)\n",
    "print(X)\n",
    "\n",
    "pool2d = nn.MaxPool2d(3)\n",
    "\n",
    "'''\n",
    "MaxPool2d(3), 汇聚层 内核层形状是 3 * 3, 如果没有指定步长 stride 则 stride = kernel_size 这里是3\n",
    "所以汇聚层滑动的时候, 只有下面一个矩阵, 使用max函数, 结果为 10\n",
    "[ 0.,  1.,  2.],\n",
    "[ 4.,  5.,  6.],\n",
    "[ 8.,  9., 10.]\n",
    "'''\n",
    "print(pool2d(X))"
   ],
   "id": "884e3caa9c43df8e",
   "outputs": [
    {
     "name": "stdout",
     "output_type": "stream",
     "text": [
      "tensor([[[[ 0.,  1.,  2.,  3.],\n",
      "          [ 4.,  5.,  6.,  7.],\n",
      "          [ 8.,  9., 10., 11.],\n",
      "          [12., 13., 14., 15.]]]])\n",
      "tensor([[[[10.]]]])\n"
     ]
    }
   ],
   "execution_count": 8
  },
  {
   "metadata": {},
   "cell_type": "markdown",
   "source": "- 手动设定 填充和步幅",
   "id": "d2994fd034e45898"
  },
  {
   "metadata": {
    "ExecuteTime": {
     "end_time": "2025-09-24T14:14:36.580180Z",
     "start_time": "2025-09-24T14:14:36.573681Z"
    }
   },
   "cell_type": "code",
   "source": [
    "import torch\n",
    "from torch import nn\n",
    "\n",
    "pool2d = nn.MaxPool2d(3, padding=1, stride=2)\n",
    "\n",
    "X = torch.arange(16, dtype=torch.float32).reshape(1, 1, 4, 4)\n",
    "print(pool2d(X))"
   ],
   "id": "5f3afb83b3e61d4d",
   "outputs": [
    {
     "name": "stdout",
     "output_type": "stream",
     "text": [
      "tensor([[[[ 5.,  7.],\n",
      "          [13., 15.]]]])\n"
     ]
    }
   ],
   "execution_count": 9
  },
  {
   "metadata": {},
   "cell_type": "markdown",
   "source": "- 设定一个任意大小的矩形汇聚窗口，并分别设定填充和步幅的高度和宽度",
   "id": "8c38855b0fd43bfa"
  },
  {
   "metadata": {
    "ExecuteTime": {
     "end_time": "2025-09-24T14:16:51.190885Z",
     "start_time": "2025-09-24T14:16:51.184806Z"
    }
   },
   "cell_type": "code",
   "source": [
    "import torch\n",
    "from torch import nn\n",
    "\n",
    "pool2d = nn.MaxPool2d((2, 3), padding=(0, 1), stride=(2, 3))\n",
    "\n",
    "X = torch.arange(16, dtype=torch.float32).reshape(1, 1, 4, 4)\n",
    "print(pool2d(X))"
   ],
   "id": "6ce16bb6d18cf030",
   "outputs": [
    {
     "name": "stdout",
     "output_type": "stream",
     "text": [
      "tensor([[[[ 5.,  7.],\n",
      "          [13., 15.]]]])\n"
     ]
    }
   ],
   "execution_count": 11
  },
  {
   "metadata": {},
   "cell_type": "markdown",
   "source": [
    "- 3. 多个通道\n",
    "\n",
    "处理多通道输入数据时，汇聚层在每个输入通道上单独运算，而不是像卷积层一样在通道上对输入进行汇总。 这意味着汇聚层的输出通道数与输入通道数相同"
   ],
   "id": "9e144eb7fb7c83ed"
  },
  {
   "metadata": {
    "ExecuteTime": {
     "end_time": "2025-09-24T14:22:27.459112Z",
     "start_time": "2025-09-24T14:22:27.454111Z"
    }
   },
   "cell_type": "code",
   "source": [
    "import torch\n",
    "\n",
    "X = torch.arange(16, dtype=torch.float32).reshape(1, 1, 4, 4)\n",
    "X = torch.cat([X, X+1], 1)\n",
    "# print(X)\n",
    "\n",
    "pool2d = nn.MaxPool2d(3, padding=1, stride=2)\n",
    "print(pool2d(X))"
   ],
   "id": "5bf157184c030775",
   "outputs": [
    {
     "name": "stdout",
     "output_type": "stream",
     "text": [
      "tensor([[[[ 5.,  7.],\n",
      "          [13., 15.]],\n",
      "\n",
      "         [[ 6.,  8.],\n",
      "          [14., 16.]]]])\n"
     ]
    }
   ],
   "execution_count": 21
  },
  {
   "metadata": {},
   "cell_type": "code",
   "outputs": [],
   "execution_count": null,
   "source": "",
   "id": "6c13520adf0e2f3d"
  }
 ],
 "metadata": {
  "kernelspec": {
   "display_name": "Python 3",
   "language": "python",
   "name": "python3"
  },
  "language_info": {
   "codemirror_mode": {
    "name": "ipython",
    "version": 2
   },
   "file_extension": ".py",
   "mimetype": "text/x-python",
   "name": "python",
   "nbconvert_exporter": "python",
   "pygments_lexer": "ipython2",
   "version": "2.7.6"
  }
 },
 "nbformat": 4,
 "nbformat_minor": 5
}
