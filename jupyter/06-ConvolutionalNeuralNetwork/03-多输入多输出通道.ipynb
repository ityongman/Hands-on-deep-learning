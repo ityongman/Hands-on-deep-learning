{
 "cells": [
  {
   "metadata": {},
   "cell_type": "markdown",
   "source": "- 1. 多输入通道",
   "id": "faded28abe0c607"
  },
  {
   "metadata": {
    "ExecuteTime": {
     "end_time": "2025-09-24T13:01:16.198588Z",
     "start_time": "2025-09-24T13:01:13.281693Z"
    }
   },
   "cell_type": "code",
   "source": [
    "import torch\n",
    "from d2l import torch as d2l\n",
    "\n",
    "# 对每个通道输入的二维张量和卷积核的二维张量进行互相关运算，再对通道求和\n",
    "def corr2d_multi_in(X, K):\n",
    "    # 遍历“X”和“K”的第0个维度（通道维度），再把它们加在一起\n",
    "    return sum(d2l.corr2d(x, k) for x, k in zip(X, K))\n",
    "\n",
    "X = torch.tensor([\n",
    "    [[0.0, 1.0, 2.0], [3.0, 4.0, 5.0], [6.0, 7.0, 8.0]],\n",
    "    [[1.0, 2.0, 3.0], [4.0, 5.0, 6.0], [7.0, 8.0, 9.0]]\n",
    "])\n",
    "K = torch.tensor([\n",
    "    [[0.0, 1.0], [2.0, 3.0]],\n",
    "    [[1.0, 2.0], [3.0, 4.0]]\n",
    "])\n",
    "\n",
    "# print(X.shape)\n",
    "# print(K.shape)\n",
    "print(corr2d_multi_in(X, K))"
   ],
   "id": "3611e196d451086d",
   "outputs": [
    {
     "name": "stdout",
     "output_type": "stream",
     "text": [
      "tensor([[ 56.,  72.],\n",
      "        [104., 120.]])\n"
     ]
    }
   ],
   "execution_count": 2
  },
  {
   "metadata": {},
   "cell_type": "markdown",
   "source": "- 2. 多输出通道",
   "id": "d997f01d0ff43ff1"
  },
  {
   "metadata": {
    "ExecuteTime": {
     "end_time": "2025-09-24T13:01:20.326008Z",
     "start_time": "2025-09-24T13:01:20.320513Z"
    }
   },
   "cell_type": "code",
   "source": [
    "def corr2d_multi_in_out(X, K):\n",
    "    # print([corr2d_multi_in(X, k) for k in K])\n",
    "    return torch.stack([corr2d_multi_in(X, k) for k in K], 0)\n",
    "\n",
    "K = torch.stack([K, K+1, K+2], 0)\n",
    "print(K.shape) # [3,2,2,2]\n",
    "\n",
    "print(corr2d_multi_in_out(X, K))"
   ],
   "id": "746c98e9f0460b5e",
   "outputs": [
    {
     "name": "stdout",
     "output_type": "stream",
     "text": [
      "torch.Size([3, 2, 2, 2])\n",
      "tensor([[[ 56.,  72.],\n",
      "         [104., 120.]],\n",
      "\n",
      "        [[ 76., 100.],\n",
      "         [148., 172.]],\n",
      "\n",
      "        [[ 96., 128.],\n",
      "         [192., 224.]]])\n"
     ]
    }
   ],
   "execution_count": 3
  },
  {
   "metadata": {},
   "cell_type": "markdown",
   "source": [
    "- 3.  1 * 1 卷积层\n",
    "\n",
    "使用全连接层实现 1x1 卷积"
   ],
   "id": "777bad89cf7a938a"
  },
  {
   "metadata": {
    "ExecuteTime": {
     "end_time": "2025-09-24T13:13:23.955174Z",
     "start_time": "2025-09-24T13:06:03.065624Z"
    }
   },
   "cell_type": "code",
   "source": [
    "import torch\n",
    "from d2l import torch as d2l\n",
    "\n",
    "# def corr2d_multi_in(X, K):\n",
    "#     # 遍历“X”和“K”的第0个维度（通道维度），再把它们加在一起\n",
    "#     return sum(d2l.corr2d(x, k) for x, k in zip(X, K))\n",
    "#\n",
    "# def corr2d_multi_in_out(X, K):\n",
    "#     # print([corr2d_multi_in(X, k) for k in K])\n",
    "#     return torch.stack([corr2d_multi_in(X, k) for k in K], 0)\n",
    "\n",
    "def corr2d_multi_in_out_1x1(X, K):\n",
    "    c_i, h, w = X.shape # c_i:输入通道数, h:输入高度, w:输入宽度\n",
    "    c_o = K.shape[0] # c_o: 卷积层通道数\n",
    "    X = X.reshape(c_i, h * w) # 将高、宽展平\n",
    "    K = K.reshape(c_o, c_i)\n",
    "    # print(K)\n",
    "    # 全链路层的矩阵乘法\n",
    "    Y = torch.matmul(K, X)\n",
    "    return Y.reshape(c_o, h, w) # 保持 二维矩阵结构一致\n",
    "\n",
    "X = torch.normal(0, 1, (3, 3, 3)) # 3个通道, 每个通道的 高、宽 分别是 3, 3\n",
    "K = torch.normal(0, 1, (2, 3, 1, 1))\n",
    "# print('X', X)\n",
    "print('K', K)\n",
    "\n",
    "Y1 = corr2d_multi_in_out_1x1(X, K)\n",
    "Y2 = corr2d_multi_in_out(X, K)\n",
    "print('Y1', Y1, 'Y2', Y2)"
   ],
   "id": "d9396bb3135d7b53",
   "outputs": [
    {
     "name": "stdout",
     "output_type": "stream",
     "text": [
      "K tensor([[[[ 1.1257]],\n",
      "\n",
      "         [[ 0.4902]],\n",
      "\n",
      "         [[-0.8148]]],\n",
      "\n",
      "\n",
      "        [[[-1.5501]],\n",
      "\n",
      "         [[-0.9508]],\n",
      "\n",
      "         [[-1.0045]]]])\n",
      "Y1 tensor([[[ 2.3831,  1.8367,  1.6773],\n",
      "         [ 0.4058,  0.6301,  0.4983],\n",
      "         [ 0.2635,  0.1777, -0.9283]],\n",
      "\n",
      "        [[-4.9811, -5.1364, -1.2088],\n",
      "         [ 0.4631, -0.2867, -1.0314],\n",
      "         [ 1.2518, -0.9913, -0.2379]]]) Y2 tensor([[[ 2.3831,  1.8367,  1.6773],\n",
      "         [ 0.4058,  0.6301,  0.4983],\n",
      "         [ 0.2635,  0.1777, -0.9283]],\n",
      "\n",
      "        [[-4.9811, -5.1364, -1.2088],\n",
      "         [ 0.4631, -0.2867, -1.0314],\n",
      "         [ 1.2518, -0.9913, -0.2379]]])\n"
     ]
    }
   ],
   "execution_count": 7
  },
  {
   "metadata": {},
   "cell_type": "code",
   "outputs": [],
   "execution_count": null,
   "source": "",
   "id": "ac7f0e7c70c84b57"
  }
 ],
 "metadata": {
  "kernelspec": {
   "display_name": "Python 3",
   "language": "python",
   "name": "python3"
  },
  "language_info": {
   "codemirror_mode": {
    "name": "ipython",
    "version": 2
   },
   "file_extension": ".py",
   "mimetype": "text/x-python",
   "name": "python",
   "nbconvert_exporter": "python",
   "pygments_lexer": "ipython2",
   "version": "2.7.6"
  }
 },
 "nbformat": 4,
 "nbformat_minor": 5
}
