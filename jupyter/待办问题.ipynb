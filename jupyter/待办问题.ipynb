{
 "cells": [
  {
   "metadata": {},
   "cell_type": "markdown",
   "source": [
    "- 待办问题\n",
    "- https://zh-v2.d2l.ai/chapter_preliminaries/calculus.html#id2\n",
    "    - 2.4.3. 梯度\n",
    "        - `假设x为n维向量，在微分多元函数时经常使用以下规则` -- 这里的几个规则没看明白, 需要再了解下"
   ],
   "id": "7eaddc149e4f59d1"
  }
 ],
 "metadata": {
  "kernelspec": {
   "display_name": "Python 3",
   "language": "python",
   "name": "python3"
  },
  "language_info": {
   "codemirror_mode": {
    "name": "ipython",
    "version": 2
   },
   "file_extension": ".py",
   "mimetype": "text/x-python",
   "name": "python",
   "nbconvert_exporter": "python",
   "pygments_lexer": "ipython2",
   "version": "2.7.6"
  }
 },
 "nbformat": 4,
 "nbformat_minor": 5
}
