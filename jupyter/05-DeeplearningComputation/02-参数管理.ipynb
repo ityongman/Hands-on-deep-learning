{
 "cells": [
  {
   "cell_type": "code",
   "id": "initial_id",
   "metadata": {
    "collapsed": true,
    "ExecuteTime": {
     "end_time": "2025-09-22T13:24:14.084271Z",
     "start_time": "2025-09-22T13:24:14.079502Z"
    }
   },
   "source": [
    "import torch\n",
    "from torch import nn\n",
    "\n",
    "net = nn.Sequential(nn.Linear(4,8), nn.ReLU(), nn.Linear(8,1))\n",
    "\n",
    "X = torch.randn(2, 4)\n",
    "print(net(X))"
   ],
   "outputs": [
    {
     "name": "stdout",
     "output_type": "stream",
     "text": [
      "tensor([[-0.0639],\n",
      "        [-0.3197]], grad_fn=<AddmmBackward0>)\n"
     ]
    }
   ],
   "execution_count": 49
  },
  {
   "metadata": {},
   "cell_type": "markdown",
   "source": "1. 参数访问",
   "id": "3e83006cecc8bca1"
  },
  {
   "metadata": {
    "ExecuteTime": {
     "end_time": "2025-09-22T12:44:09.529820Z",
     "start_time": "2025-09-22T12:44:09.521606Z"
    }
   },
   "cell_type": "code",
   "source": "print(net[2].state_dict())",
   "id": "a2f074044214367d",
   "outputs": [
    {
     "name": "stdout",
     "output_type": "stream",
     "text": [
      "OrderedDict({'weight': tensor([[ 0.1494, -0.1076,  0.0313, -0.2263,  0.1407,  0.2457,  0.1315, -0.1452]]), 'bias': tensor([-0.0832])})\n"
     ]
    }
   ],
   "execution_count": 3
  },
  {
   "metadata": {},
   "cell_type": "markdown",
   "source": "- 目标参数",
   "id": "a34f2d03a9b9248f"
  },
  {
   "metadata": {
    "ExecuteTime": {
     "end_time": "2025-09-22T12:46:40.954312Z",
     "start_time": "2025-09-22T12:46:40.949199Z"
    }
   },
   "cell_type": "code",
   "source": [
    "# 目标参数\n",
    "print(type(net[2].bias))\n",
    "print(net[2].bias)\n",
    "print(net[2].bias.requires_grad)\n",
    "print(net[2].bias.data)"
   ],
   "id": "5b7e261f495a952e",
   "outputs": [
    {
     "name": "stdout",
     "output_type": "stream",
     "text": [
      "<class 'torch.nn.parameter.Parameter'>\n",
      "Parameter containing:\n",
      "tensor([-0.0832], requires_grad=True)\n",
      "True\n",
      "tensor([-0.0832])\n"
     ]
    }
   ],
   "execution_count": 8
  },
  {
   "metadata": {},
   "cell_type": "markdown",
   "source": "- 一次性访问所有参数",
   "id": "5c94d38e8ad6882d"
  },
  {
   "metadata": {
    "ExecuteTime": {
     "end_time": "2025-09-22T12:52:30.314793Z",
     "start_time": "2025-09-22T12:52:30.310060Z"
    }
   },
   "cell_type": "code",
   "source": [
    "# 一次性访问所有参数\n",
    "# print([(name, param.shape) for name, param in net[0].named_parameters()])\n",
    "print(*[(name, param.shape) for name, param in net[0].named_parameters()])\n",
    "\n",
    "# print([(name, param.shape) for name, param in net.named_parameters()])\n",
    "print(*[(name, param.shape) for name, param in net.named_parameters()])"
   ],
   "id": "712fccd90cae6630",
   "outputs": [
    {
     "name": "stdout",
     "output_type": "stream",
     "text": [
      "('weight', torch.Size([8, 4])) ('bias', torch.Size([8]))\n",
      "('0.weight', torch.Size([8, 4])) ('0.bias', torch.Size([8])) ('2.weight', torch.Size([1, 8])) ('2.bias', torch.Size([1]))\n"
     ]
    }
   ],
   "execution_count": 13
  },
  {
   "metadata": {
    "ExecuteTime": {
     "end_time": "2025-09-22T12:54:52.722859Z",
     "start_time": "2025-09-22T12:54:52.717859Z"
    }
   },
   "cell_type": "code",
   "source": [
    "# print(net.state_dict()) # 按字典方式 key-value 方式存储\n",
    "print(net.state_dict()['2.bias'])\n",
    "print(net.state_dict()['2.bias'].data)"
   ],
   "id": "7904257ddd761c68",
   "outputs": [
    {
     "name": "stdout",
     "output_type": "stream",
     "text": [
      "tensor([-0.0832])\n",
      "tensor([-0.0832])\n"
     ]
    }
   ],
   "execution_count": 18
  },
  {
   "metadata": {},
   "cell_type": "markdown",
   "source": "- 从嵌套块收集参数",
   "id": "f4a3939db09b0675"
  },
  {
   "metadata": {
    "ExecuteTime": {
     "end_time": "2025-09-22T13:01:30.252955Z",
     "start_time": "2025-09-22T13:01:30.246787Z"
    }
   },
   "cell_type": "code",
   "source": [
    "import torch\n",
    "from torch import nn\n",
    "\n",
    "def block1():\n",
    "    return nn.Sequential(\n",
    "        nn.Linear(4, 8), nn.ReLU(),\n",
    "        nn.Linear(8, 4), nn.ReLU(),\n",
    "    )\n",
    "\n",
    "def block2():\n",
    "    net = nn.Sequential()\n",
    "    for i in range(4):\n",
    "        # 在这里嵌套\n",
    "        net.add_module(f'block {i}', block1())\n",
    "    return net\n",
    "\n",
    "rgnet = nn.Sequential(block2(), nn.Linear(4, 1))\n",
    "\n",
    "X = torch.randn(2, 4)\n",
    "print(rgnet(X))"
   ],
   "id": "cef2f63f7526054c",
   "outputs": [
    {
     "name": "stdout",
     "output_type": "stream",
     "text": [
      "tensor([[-0.6040],\n",
      "        [-0.6038]], grad_fn=<AddmmBackward0>)\n"
     ]
    }
   ],
   "execution_count": 21
  },
  {
   "metadata": {
    "ExecuteTime": {
     "end_time": "2025-09-22T13:01:42.909794Z",
     "start_time": "2025-09-22T13:01:42.904506Z"
    }
   },
   "cell_type": "code",
   "source": "print(rgnet)",
   "id": "9db2ad6ffebdc284",
   "outputs": [
    {
     "name": "stdout",
     "output_type": "stream",
     "text": [
      "Sequential(\n",
      "  (0): Sequential(\n",
      "    (block 0): Sequential(\n",
      "      (0): Linear(in_features=4, out_features=8, bias=True)\n",
      "      (1): ReLU()\n",
      "      (2): Linear(in_features=8, out_features=4, bias=True)\n",
      "      (3): ReLU()\n",
      "    )\n",
      "    (block 1): Sequential(\n",
      "      (0): Linear(in_features=4, out_features=8, bias=True)\n",
      "      (1): ReLU()\n",
      "      (2): Linear(in_features=8, out_features=4, bias=True)\n",
      "      (3): ReLU()\n",
      "    )\n",
      "    (block 2): Sequential(\n",
      "      (0): Linear(in_features=4, out_features=8, bias=True)\n",
      "      (1): ReLU()\n",
      "      (2): Linear(in_features=8, out_features=4, bias=True)\n",
      "      (3): ReLU()\n",
      "    )\n",
      "    (block 3): Sequential(\n",
      "      (0): Linear(in_features=4, out_features=8, bias=True)\n",
      "      (1): ReLU()\n",
      "      (2): Linear(in_features=8, out_features=4, bias=True)\n",
      "      (3): ReLU()\n",
      "    )\n",
      "  )\n",
      "  (1): Linear(in_features=4, out_features=1, bias=True)\n",
      ")\n"
     ]
    }
   ],
   "execution_count": 22
  },
  {
   "metadata": {
    "ExecuteTime": {
     "end_time": "2025-09-22T13:03:03.229983Z",
     "start_time": "2025-09-22T13:03:03.224997Z"
    }
   },
   "cell_type": "code",
   "source": [
    "print(rgnet[0][1][0])\n",
    "print(rgnet[0][1][0].bias.data)"
   ],
   "id": "105f19d9be85bf50",
   "outputs": [
    {
     "name": "stdout",
     "output_type": "stream",
     "text": [
      "Linear(in_features=4, out_features=8, bias=True)\n",
      "tensor([-0.4836,  0.3687,  0.1627,  0.3175,  0.1345, -0.2167,  0.3229,  0.2263])\n"
     ]
    }
   ],
   "execution_count": 25
  },
  {
   "metadata": {},
   "cell_type": "markdown",
   "source": "- 2. 参数初始化",
   "id": "206266b24b3245f0"
  },
  {
   "metadata": {},
   "cell_type": "markdown",
   "source": "- 内置初始化",
   "id": "60f4585fe2e29448"
  },
  {
   "metadata": {
    "ExecuteTime": {
     "end_time": "2025-09-22T13:09:29.500321Z",
     "start_time": "2025-09-22T13:09:29.493738Z"
    }
   },
   "cell_type": "code",
   "source": [
    "def init_normal(m):\n",
    "    if type(m) == nn.Linear:\n",
    "        nn.init.normal_(m.weight, mean=0, std=0.01)\n",
    "        nn.init.zeros_(m.bias)\n",
    "\n",
    "net.apply(init_normal)\n",
    "\n",
    "print(net[0].weight.data) # weight 是符合均值为0, 标准差为 0.01 的正太分布\n",
    "print(net[0].weight.data[0])\n",
    "print(net[0].weight.data[0][0])\n",
    "\n",
    "print(net[0].bias) # bias 设置的初始值 0\n",
    "print(net[0].bias.data)"
   ],
   "id": "4ecf4ad04fccaeeb",
   "outputs": [
    {
     "name": "stdout",
     "output_type": "stream",
     "text": [
      "tensor([[ 4.1900e-03, -6.0065e-03,  1.8607e-03,  9.5762e-03],\n",
      "        [-1.7931e-03,  4.2967e-03,  3.3903e-03, -1.2399e-02],\n",
      "        [-3.4824e-03, -8.5898e-03,  7.2548e-03, -7.6122e-03],\n",
      "        [ 7.4625e-03, -4.3153e-03,  3.9301e-03,  9.4779e-04],\n",
      "        [ 8.0677e-03,  1.0073e-02,  2.5424e-03, -7.7675e-03],\n",
      "        [ 3.8879e-03,  5.6094e-03, -1.0333e-03,  2.3389e-05],\n",
      "        [ 5.5408e-03,  1.7183e-02, -2.2808e-03,  1.4229e-02],\n",
      "        [ 1.8873e-02,  1.7025e-03,  9.4418e-03,  3.8361e-02]])\n",
      "tensor([ 0.0042, -0.0060,  0.0019,  0.0096])\n",
      "tensor(0.0042)\n",
      "Parameter containing:\n",
      "tensor([0., 0., 0., 0., 0., 0., 0., 0.], requires_grad=True)\n",
      "tensor([0., 0., 0., 0., 0., 0., 0., 0.])\n"
     ]
    }
   ],
   "execution_count": 33
  },
  {
   "metadata": {
    "ExecuteTime": {
     "end_time": "2025-09-22T13:12:04.651932Z",
     "start_time": "2025-09-22T13:12:04.646534Z"
    }
   },
   "cell_type": "code",
   "source": [
    "def init_constant(m):\n",
    "    if type(m) == nn.Linear:\n",
    "        nn.init.constant_(m.weight, 1)\n",
    "        nn.init.zeros_(m.bias)\n",
    "\n",
    "net.apply(init_constant)\n",
    "\n",
    "print(net[0].weight.data[0])\n",
    "print(net[0].bias.data)\n",
    "print(net[0].bias.data[0])"
   ],
   "id": "69d202ba23ab6c95",
   "outputs": [
    {
     "name": "stdout",
     "output_type": "stream",
     "text": [
      "tensor([1., 1., 1., 1.])\n",
      "tensor([0., 0., 0., 0., 0., 0., 0., 0.])\n",
      "tensor(0.)\n"
     ]
    }
   ],
   "execution_count": 36
  },
  {
   "metadata": {
    "ExecuteTime": {
     "end_time": "2025-09-22T13:15:51.344822Z",
     "start_time": "2025-09-22T13:15:51.337380Z"
    }
   },
   "cell_type": "code",
   "source": [
    "def init_xavier(m):\n",
    "    if type(m) == nn.Linear:\n",
    "        nn.init.xavier_uniform_(m.weight)\n",
    "\n",
    "def init42(m):\n",
    "    if type(m) == nn.Linear:\n",
    "        nn.init.constant_(m.weight, 42)\n",
    "\n",
    "# print(net)\n",
    "net[0].apply(init_xavier)\n",
    "net[2].apply(init42)\n",
    "\n",
    "print(net[0].weight.data[0])\n",
    "print(net[2].weight.data)"
   ],
   "id": "9e30ed49c8c7652a",
   "outputs": [
    {
     "name": "stdout",
     "output_type": "stream",
     "text": [
      "tensor([ 0.6070, -0.2725, -0.5733, -0.6994])\n",
      "tensor([[42., 42., 42., 42., 42., 42., 42., 42.]])\n"
     ]
    }
   ],
   "execution_count": 41
  },
  {
   "metadata": {},
   "cell_type": "markdown",
   "source": "- 2. 自定义初始化",
   "id": "228b56bdb25cffed"
  },
  {
   "metadata": {
    "ExecuteTime": {
     "end_time": "2025-09-22T13:25:58.732020Z",
     "start_time": "2025-09-22T13:25:58.723020Z"
    }
   },
   "cell_type": "code",
   "source": [
    "def my_init(m):\n",
    "    if type(m) == nn.Linear:\n",
    "        print('Init ', [(name, param.shape) for name, param in m.named_parameters()][0])\n",
    "        nn.init.uniform_(m.weight, -10, 10)\n",
    "        # print(\"my_init \", net[0].weight.data)\n",
    "        m.weight.data *= m.weight.data.abs() >= 5\n",
    "\n",
    "\n",
    "net.apply(my_init)\n",
    "\n",
    "print(net[0].weight.data)\n",
    "print(net[0].weight.data[:2])\n"
   ],
   "id": "98ab163e2297744a",
   "outputs": [
    {
     "name": "stdout",
     "output_type": "stream",
     "text": [
      "Init  ('weight', torch.Size([8, 4]))\n",
      "my_init  tensor([[-3.3797,  2.2061,  4.1332, -8.9523],\n",
      "        [-0.8433, -7.8924, -9.9782,  9.7691],\n",
      "        [ 8.0386,  6.5668, -7.0756,  6.0646],\n",
      "        [ 9.2750, -0.0383, -5.3722,  2.5742],\n",
      "        [-4.3707,  8.4483,  3.8494, -8.5503],\n",
      "        [-5.9884,  0.0209,  0.9016, -1.2862],\n",
      "        [ 2.6331, -8.6587, -3.5106,  0.0434],\n",
      "        [ 1.2449, -1.5677, -3.9434, -8.1932]])\n",
      "Init  ('weight', torch.Size([1, 8]))\n",
      "my_init  tensor([[-0.0000,  0.0000,  0.0000, -8.9523],\n",
      "        [-0.0000, -7.8924, -9.9782,  9.7691],\n",
      "        [ 8.0386,  6.5668, -7.0756,  6.0646],\n",
      "        [ 9.2750, -0.0000, -5.3722,  0.0000],\n",
      "        [-0.0000,  8.4483,  0.0000, -8.5503],\n",
      "        [-5.9884,  0.0000,  0.0000, -0.0000],\n",
      "        [ 0.0000, -8.6587, -0.0000,  0.0000],\n",
      "        [ 0.0000, -0.0000, -0.0000, -8.1932]])\n",
      "tensor([[-0.0000,  0.0000,  0.0000, -8.9523],\n",
      "        [-0.0000, -7.8924, -9.9782,  9.7691],\n",
      "        [ 8.0386,  6.5668, -7.0756,  6.0646],\n",
      "        [ 9.2750, -0.0000, -5.3722,  0.0000],\n",
      "        [-0.0000,  8.4483,  0.0000, -8.5503],\n",
      "        [-5.9884,  0.0000,  0.0000, -0.0000],\n",
      "        [ 0.0000, -8.6587, -0.0000,  0.0000],\n",
      "        [ 0.0000, -0.0000, -0.0000, -8.1932]])\n",
      "tensor([[-0.0000,  0.0000,  0.0000, -8.9523],\n",
      "        [-0.0000, -7.8924, -9.9782,  9.7691]])\n"
     ]
    }
   ],
   "execution_count": 54
  },
  {
   "metadata": {},
   "cell_type": "markdown",
   "source": "- 直接设置参数",
   "id": "58fbafe3dce5b5f4"
  },
  {
   "metadata": {
    "ExecuteTime": {
     "end_time": "2025-09-22T13:35:31.886721Z",
     "start_time": "2025-09-22T13:35:31.880731Z"
    }
   },
   "cell_type": "code",
   "source": [
    "# net = nn.Sequential(nn.Linear(4,8), nn.ReLU(), nn.Linear(8,1))\n",
    "#\n",
    "# X = torch.randn(2, 4)\n",
    "# print(net(X))\n",
    "\n",
    "print(net[0].weight.data.shape)\n",
    "print(net[2].weight.data.shape)\n",
    "\n",
    "net[0].weight.data[:] += 1\n",
    "net[0].weight.data[0,0] = 42\n",
    "print(net[0].weight.data)\n",
    "print(net[0].weight.data[0])"
   ],
   "id": "93ce485f5d543e3b",
   "outputs": [
    {
     "name": "stdout",
     "output_type": "stream",
     "text": [
      "torch.Size([8, 4])\n",
      "torch.Size([1, 8])\n",
      "tensor([[42.0000,  2.0000,  2.0000, -6.9523],\n",
      "        [ 2.0000, -5.8924, -7.9782, 11.7691],\n",
      "        [10.0386,  8.5668, -5.0756,  8.0646],\n",
      "        [11.2750,  2.0000, -3.3722,  2.0000],\n",
      "        [ 2.0000, 10.4483,  2.0000, -6.5503],\n",
      "        [-3.9884,  2.0000,  2.0000,  2.0000],\n",
      "        [ 2.0000, -6.6587,  2.0000,  2.0000],\n",
      "        [ 2.0000,  2.0000,  2.0000, -6.1932]])\n",
      "tensor([42.0000,  2.0000,  2.0000, -6.9523])\n"
     ]
    }
   ],
   "execution_count": 60
  },
  {
   "metadata": {},
   "cell_type": "markdown",
   "source": "- 3. 参数绑定",
   "id": "52cd0a0d18069cb5"
  },
  {
   "metadata": {
    "ExecuteTime": {
     "end_time": "2025-09-22T13:41:36.646584Z",
     "start_time": "2025-09-22T13:41:36.641451Z"
    }
   },
   "cell_type": "code",
   "source": [
    "shared = nn.Linear(8, 8)\n",
    "net = nn.Sequential(\n",
    "    nn.Linear(4, 8), nn.ReLU(),\n",
    "    shared, nn.ReLU(),\n",
    "    shared, nn.ReLU(),\n",
    "    nn.Linear(8, 1)\n",
    "                    )\n",
    "X = torch.randn(2, 4)\n",
    "net(X)\n",
    "\n",
    "# 检测参数是否相同\n",
    "print(net[2].weight.data[0] == net[4].weight.data[0])\n",
    "net[2].weight.data[0,0] = 100 # 修改内存, 确保是同一个对象, 而不只是相同的数值\n",
    "print(net[2].weight.data[0] == net[4].weight.data[0])"
   ],
   "id": "25a59d6bac64135f",
   "outputs": [
    {
     "name": "stdout",
     "output_type": "stream",
     "text": [
      "tensor([True, True, True, True, True, True, True, True])\n",
      "tensor([True, True, True, True, True, True, True, True])\n"
     ]
    }
   ],
   "execution_count": 63
  },
  {
   "metadata": {},
   "cell_type": "code",
   "outputs": [],
   "execution_count": null,
   "source": "",
   "id": "59f6f7d20f00f39a"
  }
 ],
 "metadata": {
  "kernelspec": {
   "display_name": "Python 3",
   "language": "python",
   "name": "python3"
  },
  "language_info": {
   "codemirror_mode": {
    "name": "ipython",
    "version": 2
   },
   "file_extension": ".py",
   "mimetype": "text/x-python",
   "name": "python",
   "nbconvert_exporter": "python",
   "pygments_lexer": "ipython2",
   "version": "2.7.6"
  }
 },
 "nbformat": 4,
 "nbformat_minor": 5
}
