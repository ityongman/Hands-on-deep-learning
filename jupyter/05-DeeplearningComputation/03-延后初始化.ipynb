{
 "cells": [
  {
   "cell_type": "code",
   "id": "initial_id",
   "metadata": {
    "collapsed": true,
    "ExecuteTime": {
     "end_time": "2025-09-22T13:46:35.146849Z",
     "start_time": "2025-09-22T13:46:35.107420Z"
    }
   },
   "source": [
    "import torch\n",
    "from torch import nn\n",
    "\n",
    "net = nn.Sequential(nn.LazyLinear(256), nn.ReLU(), nn.Linear(256, 10))\n",
    "\n",
    "# print(net[0].weight.shape) # RuntimeError: Can't access the shape of an uninitialized parameter or buffer. This error usually happens in `load_state_dict` when trying to load an uninitialized parameter into an initialized one. Call `forward` to initialize the parameters before accessing their attributes.\n",
    "\n",
    "X = torch.randn(2, 20)\n",
    "net(X)\n",
    "\n",
    "print(net)\n",
    "print(net[0].weight.shape)"
   ],
   "outputs": [
    {
     "ename": "RuntimeError",
     "evalue": "Can't access the shape of an uninitialized parameter or buffer. This error usually happens in `load_state_dict` when trying to load an uninitialized parameter into an initialized one. Call `forward` to initialize the parameters before accessing their attributes.",
     "output_type": "error",
     "traceback": [
      "\u001B[31m---------------------------------------------------------------------------\u001B[39m",
      "\u001B[31mRuntimeError\u001B[39m                              Traceback (most recent call last)",
      "\u001B[36mCell\u001B[39m\u001B[36m \u001B[39m\u001B[32mIn[4]\u001B[39m\u001B[32m, line 6\u001B[39m\n\u001B[32m      2\u001B[39m \u001B[38;5;28;01mfrom\u001B[39;00m\u001B[38;5;250m \u001B[39m\u001B[34;01mtorch\u001B[39;00m\u001B[38;5;250m \u001B[39m\u001B[38;5;28;01mimport\u001B[39;00m nn\n\u001B[32m      4\u001B[39m net = nn.Sequential(nn.LazyLinear(\u001B[32m256\u001B[39m), nn.ReLU(), nn.Linear(\u001B[32m256\u001B[39m, \u001B[32m10\u001B[39m))\n\u001B[32m----> \u001B[39m\u001B[32m6\u001B[39m \u001B[38;5;28mprint\u001B[39m(\u001B[43mnet\u001B[49m\u001B[43m[\u001B[49m\u001B[32;43m0\u001B[39;49m\u001B[43m]\u001B[49m\u001B[43m.\u001B[49m\u001B[43mweight\u001B[49m\u001B[43m.\u001B[49m\u001B[43mshape\u001B[49m)\n\u001B[32m      8\u001B[39m X = torch.randn(\u001B[32m2\u001B[39m, \u001B[32m20\u001B[39m)\n\u001B[32m      9\u001B[39m net(X)\n",
      "\u001B[36mFile \u001B[39m\u001B[32mD:\\software\\Python\\envs\\py312\\Lib\\site-packages\\torch\\nn\\parameter.py:129\u001B[39m, in \u001B[36mUninitializedTensorMixin.shape\u001B[39m\u001B[34m(self)\u001B[39m\n\u001B[32m    127\u001B[39m \u001B[38;5;129m@property\u001B[39m\n\u001B[32m    128\u001B[39m \u001B[38;5;28;01mdef\u001B[39;00m\u001B[38;5;250m \u001B[39m\u001B[34mshape\u001B[39m(\u001B[38;5;28mself\u001B[39m):\n\u001B[32m--> \u001B[39m\u001B[32m129\u001B[39m     \u001B[38;5;28;01mraise\u001B[39;00m \u001B[38;5;167;01mRuntimeError\u001B[39;00m(\n\u001B[32m    130\u001B[39m         \u001B[33m'\u001B[39m\u001B[33mCan\u001B[39m\u001B[38;5;130;01m\\'\u001B[39;00m\u001B[33mt access the shape of an uninitialized parameter or buffer. \u001B[39m\u001B[33m'\u001B[39m\n\u001B[32m    131\u001B[39m         \u001B[33m'\u001B[39m\u001B[33mThis error usually happens in `load_state_dict` when trying to load \u001B[39m\u001B[33m'\u001B[39m\n\u001B[32m    132\u001B[39m         \u001B[33m'\u001B[39m\u001B[33man uninitialized parameter into an initialized one. \u001B[39m\u001B[33m'\u001B[39m\n\u001B[32m    133\u001B[39m         \u001B[33m'\u001B[39m\u001B[33mCall `forward` to initialize the parameters before accessing their attributes.\u001B[39m\u001B[33m'\u001B[39m)\n",
      "\u001B[31mRuntimeError\u001B[39m: Can't access the shape of an uninitialized parameter or buffer. This error usually happens in `load_state_dict` when trying to load an uninitialized parameter into an initialized one. Call `forward` to initialize the parameters before accessing their attributes."
     ]
    }
   ],
   "execution_count": 4
  },
  {
   "metadata": {},
   "cell_type": "code",
   "outputs": [],
   "execution_count": null,
   "source": "",
   "id": "68a60551327e5022"
  }
 ],
 "metadata": {
  "kernelspec": {
   "display_name": "Python 3",
   "language": "python",
   "name": "python3"
  },
  "language_info": {
   "codemirror_mode": {
    "name": "ipython",
    "version": 2
   },
   "file_extension": ".py",
   "mimetype": "text/x-python",
   "name": "python",
   "nbconvert_exporter": "python",
   "pygments_lexer": "ipython2",
   "version": "2.7.6"
  }
 },
 "nbformat": 4,
 "nbformat_minor": 5
}
