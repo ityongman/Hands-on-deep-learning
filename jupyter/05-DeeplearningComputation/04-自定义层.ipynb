{
 "cells": [
  {
   "metadata": {},
   "cell_type": "markdown",
   "source": "- 1. 不带参数的层",
   "id": "e74ee5a9bd6ed2ff"
  },
  {
   "metadata": {
    "ExecuteTime": {
     "end_time": "2025-09-22T14:53:02.484570Z",
     "start_time": "2025-09-22T14:53:02.476280Z"
    }
   },
   "cell_type": "code",
   "source": [
    "import torch\n",
    "from torch import nn\n",
    "from torch.nn import functional as F\n",
    "\n",
    "class CenteredLayer(nn.Module):\n",
    "    def __init__(self):\n",
    "        super().__init__()\n",
    "\n",
    "    def forward(self, X):\n",
    "        return X - X.mean()\n",
    "\n",
    "layer = CenteredLayer()\n",
    "print(layer(torch.FloatTensor([1,2,3,4,5])))"
   ],
   "id": "9c221bb6e21fbe0",
   "outputs": [
    {
     "name": "stdout",
     "output_type": "stream",
     "text": [
      "tensor([-2., -1.,  0.,  1.,  2.])\n"
     ]
    }
   ],
   "execution_count": 3
  },
  {
   "metadata": {},
   "cell_type": "markdown",
   "source": "- 将层作为组件合并到更复杂的模型中",
   "id": "45fd664873b0b54a"
  },
  {
   "metadata": {
    "ExecuteTime": {
     "end_time": "2025-09-22T14:55:32.544994Z",
     "start_time": "2025-09-22T14:55:32.540545Z"
    }
   },
   "cell_type": "code",
   "source": [
    "net = nn.Sequential(nn.Linear(8, 128), CenteredLayer())\n",
    "Y = net(torch.rand(4, 8))\n",
    "print(Y.mean())"
   ],
   "id": "a7b04e4a4302c445",
   "outputs": [
    {
     "name": "stdout",
     "output_type": "stream",
     "text": [
      "tensor(-2.7940e-09, grad_fn=<MeanBackward0>)\n"
     ]
    }
   ],
   "execution_count": 5
  },
  {
   "metadata": {},
   "cell_type": "markdown",
   "source": "- 2. 带参数的层",
   "id": "a59d1275f826a8b"
  },
  {
   "metadata": {
    "ExecuteTime": {
     "end_time": "2025-09-22T15:05:48.042924Z",
     "start_time": "2025-09-22T15:05:48.031462Z"
    }
   },
   "cell_type": "code",
   "source": [
    "class MyLinear(nn.Module):\n",
    "    def __init__(self, in_units, units):\n",
    "        super().__init__()\n",
    "        self.weight = nn.Parameter(torch.randn(in_units, units))\n",
    "        self.bias = nn.Parameter(torch.randn(units,))\n",
    "\n",
    "    def forward(self, X):\n",
    "        linear = torch.matmul(X, self.weight.data) + self.bias.data\n",
    "        return F.relu(linear)\n",
    "\n",
    "linear = MyLinear(5,3)\n",
    "print(linear.weight)\n",
    "\n",
    "print(linear(torch.rand(2, 5)))"
   ],
   "id": "d00d30b79edaff0c",
   "outputs": [
    {
     "name": "stdout",
     "output_type": "stream",
     "text": [
      "Parameter containing:\n",
      "tensor([[ 0.2891,  1.0796,  0.4706],\n",
      "        [ 1.8416,  1.7450,  0.5199],\n",
      "        [-0.2072, -0.2310, -1.3636],\n",
      "        [-0.4685,  1.3523,  0.4565],\n",
      "        [ 0.1693, -0.8354,  0.0139]], requires_grad=True)\n",
      "tensor([[1.2802, 1.1344, 0.5445],\n",
      "        [0.3294, 1.2820, 0.8439]])\n"
     ]
    }
   ],
   "execution_count": 12
  },
  {
   "metadata": {},
   "cell_type": "markdown",
   "source": "- 可以使用自定义层构建模型，就像使用内置的全连接层一样使用自定义层",
   "id": "586794301da75d9c"
  },
  {
   "metadata": {
    "ExecuteTime": {
     "end_time": "2025-09-22T15:06:19.639249Z",
     "start_time": "2025-09-22T15:06:19.633950Z"
    }
   },
   "cell_type": "code",
   "source": [
    "net = nn.Sequential(MyLinear(64, 8), MyLinear(8, 1))\n",
    "print(net(torch.rand(2, 64)))"
   ],
   "id": "c9196438e02a3b10",
   "outputs": [
    {
     "name": "stdout",
     "output_type": "stream",
     "text": [
      "tensor([[2.8271],\n",
      "        [7.6806]])\n"
     ]
    }
   ],
   "execution_count": 16
  },
  {
   "metadata": {
    "ExecuteTime": {
     "end_time": "2025-09-22T15:06:20.136454Z",
     "start_time": "2025-09-22T15:06:20.133455Z"
    }
   },
   "cell_type": "code",
   "source": "",
   "id": "f872a21a234b2c46",
   "outputs": [],
   "execution_count": null
  }
 ],
 "metadata": {
  "kernelspec": {
   "display_name": "Python 3",
   "language": "python",
   "name": "python3"
  },
  "language_info": {
   "codemirror_mode": {
    "name": "ipython",
    "version": 2
   },
   "file_extension": ".py",
   "mimetype": "text/x-python",
   "name": "python",
   "nbconvert_exporter": "python",
   "pygments_lexer": "ipython2",
   "version": "2.7.6"
  }
 },
 "nbformat": 4,
 "nbformat_minor": 5
}
