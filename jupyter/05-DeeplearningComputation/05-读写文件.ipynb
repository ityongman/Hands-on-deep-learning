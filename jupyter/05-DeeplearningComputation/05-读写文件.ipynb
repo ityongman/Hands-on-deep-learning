{
 "cells": [
  {
   "metadata": {},
   "cell_type": "markdown",
   "source": "- 1. 加载和保存张量",
   "id": "c3350667a99610eb"
  },
  {
   "metadata": {
    "ExecuteTime": {
     "end_time": "2025-09-22T15:08:13.948707Z",
     "start_time": "2025-09-22T15:08:12.505240Z"
    }
   },
   "cell_type": "code",
   "source": [
    "import torch\n",
    "\n",
    "x = torch.arange(4)\n",
    "torch.save(x, 'x-file')"
   ],
   "id": "e59f17a1dfc41e60",
   "outputs": [],
   "execution_count": 1
  },
  {
   "metadata": {
    "ExecuteTime": {
     "end_time": "2025-09-22T15:25:42.064818Z",
     "start_time": "2025-09-22T15:25:42.059770Z"
    }
   },
   "cell_type": "code",
   "source": [
    "import torch\n",
    "\n",
    "x_2 = torch.load('x-file', map_location='cpu', weights_only=True)\n",
    "print(x_2)"
   ],
   "id": "4d2a15894b1380d1",
   "outputs": [
    {
     "name": "stdout",
     "output_type": "stream",
     "text": [
      "tensor([0, 1, 2, 3])\n"
     ]
    }
   ],
   "execution_count": 14
  },
  {
   "metadata": {
    "ExecuteTime": {
     "end_time": "2025-09-22T15:11:36.929475Z",
     "start_time": "2025-09-22T15:11:36.925033Z"
    }
   },
   "cell_type": "code",
   "source": [
    "y = torch.zeros(4)\n",
    "torch.save([x, y], 'x-files')"
   ],
   "id": "e023ad83f24f8f38",
   "outputs": [],
   "execution_count": 3
  },
  {
   "metadata": {
    "ExecuteTime": {
     "end_time": "2025-09-22T15:25:22.324756Z",
     "start_time": "2025-09-22T15:25:22.319716Z"
    }
   },
   "cell_type": "code",
   "source": [
    "x_2, y_2 = torch.load('x-files', map_location='cpu', weights_only=True)\n",
    "print(x_2, y_2)"
   ],
   "id": "7aafbc095161c296",
   "outputs": [
    {
     "name": "stdout",
     "output_type": "stream",
     "text": [
      "tensor([0, 1, 2, 3]) tensor([0., 0., 0., 0.])\n"
     ]
    }
   ],
   "execution_count": 13
  },
  {
   "metadata": {
    "ExecuteTime": {
     "end_time": "2025-09-22T15:13:07.508496Z",
     "start_time": "2025-09-22T15:13:07.503998Z"
    }
   },
   "cell_type": "code",
   "source": [
    "mydict = {'x':x, 'y': y}\n",
    "torch.save(mydict, 'mydict')"
   ],
   "id": "246992a2871443c9",
   "outputs": [],
   "execution_count": 6
  },
  {
   "metadata": {
    "ExecuteTime": {
     "end_time": "2025-09-22T15:26:10.120771Z",
     "start_time": "2025-09-22T15:26:10.116263Z"
    }
   },
   "cell_type": "code",
   "source": [
    "mydict_2 = torch.load('mydict', map_location='cpu', weights_only=True)\n",
    "print(mydict_2)"
   ],
   "id": "f8729c07c8c57253",
   "outputs": [
    {
     "name": "stdout",
     "output_type": "stream",
     "text": [
      "{'x': tensor([0, 1, 2, 3]), 'y': tensor([0., 0., 0., 0.])}\n"
     ]
    }
   ],
   "execution_count": 15
  },
  {
   "metadata": {},
   "cell_type": "markdown",
   "source": "- 2. 加载和保存模型参数",
   "id": "af21663b7dfffd45"
  },
  {
   "metadata": {
    "ExecuteTime": {
     "end_time": "2025-09-22T15:19:37.904932Z",
     "start_time": "2025-09-22T15:19:37.892713Z"
    }
   },
   "cell_type": "code",
   "source": [
    "import torch\n",
    "from torch import nn\n",
    "from torch.nn import functional as F\n",
    "\n",
    "class MLP(nn.Module):\n",
    "    def __init__(self):\n",
    "        super().__init__()\n",
    "        self.hidden = nn.Linear(20, 256)\n",
    "        self.output = nn.Linear(256, 10)\n",
    "\n",
    "    def forward(self, X):\n",
    "        return self.output(F.relu(self.hidden(X)))\n",
    "\n",
    "net = MLP()\n",
    "X = torch.randn(2, 20)\n",
    "Y = net(X)\n",
    "\n",
    "print(Y.shape)\n",
    "print(Y)\n",
    "print(net.state_dict())\n",
    "\n",
    "torch.save(net.state_dict(), 'mlp.params')"
   ],
   "id": "f3ef43a743a0061",
   "outputs": [
    {
     "name": "stdout",
     "output_type": "stream",
     "text": [
      "torch.Size([2, 10])\n",
      "tensor([[ 0.1027,  0.1632,  0.0075,  0.2104, -0.0399,  0.3447, -0.6240, -0.3149,\n",
      "         -0.3291, -0.0815],\n",
      "        [ 0.2654,  0.1568,  0.0547,  0.3923,  0.6545, -0.1111, -0.3155,  0.0139,\n",
      "         -0.1541, -0.1747]], grad_fn=<AddmmBackward0>)\n",
      "OrderedDict({'hidden.weight': tensor([[ 0.1767, -0.0103, -0.0200,  ..., -0.1916,  0.1107,  0.1794],\n",
      "        [ 0.0455, -0.2143, -0.2152,  ..., -0.2195, -0.1986,  0.1570],\n",
      "        [ 0.0287,  0.0176,  0.1632,  ...,  0.0085, -0.0690,  0.1418],\n",
      "        ...,\n",
      "        [ 0.2099,  0.0799,  0.1158,  ...,  0.0029,  0.0675,  0.2127],\n",
      "        [-0.1230,  0.2065, -0.1323,  ..., -0.0890,  0.1707,  0.0866],\n",
      "        [-0.0860, -0.1598, -0.0190,  ..., -0.0480, -0.1682, -0.1274]]), 'hidden.bias': tensor([ 0.2053, -0.1485, -0.1157, -0.1723, -0.0012,  0.0637, -0.0496,  0.1308,\n",
      "        -0.1842,  0.0993,  0.0437,  0.0454, -0.1980,  0.2122,  0.0419, -0.0395,\n",
      "        -0.1729,  0.0735,  0.1148, -0.1136, -0.1952,  0.0174,  0.1986, -0.1078,\n",
      "         0.0653, -0.1936,  0.0007,  0.1772,  0.2043,  0.0876, -0.2093,  0.0018,\n",
      "         0.0906,  0.1660, -0.1412,  0.1132, -0.1024, -0.1038, -0.0969, -0.1551,\n",
      "         0.0714, -0.1435,  0.1885, -0.0105,  0.0348,  0.1461,  0.0666, -0.0805,\n",
      "         0.0980,  0.1544,  0.0566, -0.0324,  0.1011,  0.1474, -0.1939,  0.1952,\n",
      "         0.0998,  0.1024, -0.0265, -0.1646, -0.2235, -0.1754,  0.0924, -0.1867,\n",
      "        -0.2056,  0.1391,  0.1077,  0.0286, -0.1591, -0.0179,  0.0070,  0.1871,\n",
      "         0.1925,  0.0180, -0.1912, -0.1053, -0.1454, -0.0754, -0.1131,  0.1016,\n",
      "         0.1274, -0.1502, -0.0678, -0.1109,  0.0478,  0.0060, -0.0439, -0.0280,\n",
      "         0.0905, -0.0453,  0.2154, -0.2109,  0.1161,  0.2102,  0.2211, -0.2087,\n",
      "        -0.0360, -0.2196, -0.1886, -0.1010, -0.1516,  0.2025, -0.2101,  0.1562,\n",
      "         0.1504,  0.0775,  0.1107, -0.1261, -0.0763,  0.0066, -0.0869,  0.0128,\n",
      "         0.1300,  0.1525,  0.1883, -0.1888,  0.1273,  0.1338, -0.0231,  0.0976,\n",
      "         0.1041,  0.0377, -0.1841,  0.0091, -0.1408, -0.1311,  0.0661, -0.1053,\n",
      "         0.0849,  0.0638, -0.1738, -0.1052,  0.0049, -0.1427, -0.0356, -0.1289,\n",
      "         0.0011, -0.0532,  0.0806,  0.2004,  0.1843,  0.0381, -0.0518,  0.0924,\n",
      "         0.1773, -0.0120, -0.0361, -0.2035, -0.2121, -0.1222,  0.0828,  0.0535,\n",
      "        -0.0504,  0.1805,  0.0698,  0.0787,  0.2031, -0.2105,  0.0881,  0.2031,\n",
      "         0.1386, -0.1636,  0.0986, -0.1936, -0.1599,  0.0165, -0.2207, -0.0648,\n",
      "        -0.0577,  0.0291,  0.1519,  0.1342,  0.0869, -0.0587, -0.0460, -0.1682,\n",
      "         0.2188, -0.1238, -0.0883,  0.0411,  0.0913,  0.1723,  0.1427,  0.0688,\n",
      "         0.1997,  0.1105, -0.0576, -0.1364, -0.1094,  0.1097,  0.2013, -0.1192,\n",
      "        -0.2201, -0.2177,  0.0679, -0.0638,  0.1403,  0.2042, -0.0805, -0.1472,\n",
      "         0.1338,  0.0017, -0.1214, -0.1996,  0.2100,  0.2165,  0.0726,  0.0518,\n",
      "         0.1280,  0.0084,  0.2002,  0.0465, -0.1829,  0.1435, -0.0134, -0.0408,\n",
      "        -0.1744, -0.1356,  0.1990,  0.0050, -0.0939, -0.1033,  0.2110,  0.0992,\n",
      "        -0.1332,  0.0953,  0.0303,  0.1656,  0.0006, -0.1172, -0.0158, -0.0219,\n",
      "        -0.0485,  0.1694,  0.0301,  0.1426, -0.0407, -0.1020,  0.1898, -0.0606,\n",
      "         0.0202, -0.1708,  0.0848,  0.1532,  0.0956,  0.1245, -0.1481, -0.1259,\n",
      "         0.0124, -0.0802,  0.0614, -0.1157,  0.1253, -0.1178,  0.1016, -0.2181]), 'output.weight': tensor([[-0.0423,  0.0488, -0.0408,  ..., -0.0100,  0.0365, -0.0487],\n",
      "        [ 0.0385,  0.0030,  0.0623,  ..., -0.0249,  0.0375, -0.0440],\n",
      "        [-0.0526, -0.0051, -0.0080,  ...,  0.0548,  0.0397,  0.0315],\n",
      "        ...,\n",
      "        [-0.0239, -0.0426, -0.0215,  ...,  0.0527,  0.0013,  0.0273],\n",
      "        [-0.0034, -0.0247,  0.0072,  ...,  0.0219, -0.0023,  0.0057],\n",
      "        [ 0.0470, -0.0429,  0.0046,  ..., -0.0481,  0.0457, -0.0268]]), 'output.bias': tensor([ 0.0082, -0.0526,  0.0592, -0.0514, -0.0260,  0.0142,  0.0152,  0.0428,\n",
      "         0.0107,  0.0199])})\n"
     ]
    }
   ],
   "execution_count": 9
  },
  {
   "metadata": {},
   "cell_type": "markdown",
   "source": "- 恢复模型 不需要随机初始化模型参数，而是直接读取文件中存储的参数",
   "id": "28bca0864094255c"
  },
  {
   "metadata": {
    "ExecuteTime": {
     "end_time": "2025-09-22T15:26:41.368693Z",
     "start_time": "2025-09-22T15:26:41.362450Z"
    }
   },
   "cell_type": "code",
   "source": [
    "clone = MLP()\n",
    "clone.load_state_dict(torch.load('mlp.params', map_location='cpu', weights_only=True))\n",
    "clone.eval()"
   ],
   "id": "b22332cd3d8a464c",
   "outputs": [
    {
     "data": {
      "text/plain": [
       "MLP(\n",
       "  (hidden): Linear(in_features=20, out_features=256, bias=True)\n",
       "  (output): Linear(in_features=256, out_features=10, bias=True)\n",
       ")"
      ]
     },
     "execution_count": 16,
     "metadata": {},
     "output_type": "execute_result"
    }
   ],
   "execution_count": 16
  },
  {
   "metadata": {
    "ExecuteTime": {
     "end_time": "2025-09-22T15:22:54.680366Z",
     "start_time": "2025-09-22T15:22:54.675347Z"
    }
   },
   "cell_type": "code",
   "source": [
    "clone_Y = clone(X)\n",
    "clone_Y == Y"
   ],
   "id": "1918513ba6cb1e79",
   "outputs": [
    {
     "data": {
      "text/plain": [
       "tensor([[True, True, True, True, True, True, True, True, True, True],\n",
       "        [True, True, True, True, True, True, True, True, True, True]])"
      ]
     },
     "execution_count": 11,
     "metadata": {},
     "output_type": "execute_result"
    }
   ],
   "execution_count": 11
  },
  {
   "metadata": {},
   "cell_type": "code",
   "outputs": [],
   "execution_count": null,
   "source": "",
   "id": "19c149d8635290fe"
  }
 ],
 "metadata": {
  "kernelspec": {
   "display_name": "Python 3",
   "language": "python",
   "name": "python3"
  },
  "language_info": {
   "codemirror_mode": {
    "name": "ipython",
    "version": 2
   },
   "file_extension": ".py",
   "mimetype": "text/x-python",
   "name": "python",
   "nbconvert_exporter": "python",
   "pygments_lexer": "ipython2",
   "version": "2.7.6"
  }
 },
 "nbformat": 4,
 "nbformat_minor": 5
}
