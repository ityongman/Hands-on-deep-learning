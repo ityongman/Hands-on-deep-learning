{
 "cells": [
  {
   "cell_type": "markdown",
   "id": "6054c56737f23531",
   "metadata": {},
   "source": [
    "- 1.读取数据集"
   ]
  },
  {
   "cell_type": "code",
   "execution_count": 1,
   "id": "6735173950ef5e5b",
   "metadata": {},
   "outputs": [
    {
     "name": "stdout",
     "output_type": "stream",
     "text": [
      "Downloading ..\\data\\timemachine.txt from http://d2l-data.s3-accelerate.amazonaws.com/timemachine.txt...\n",
      "# 文本行数: 3221\n",
      "the time machine by h g wells\n",
      "twinkled and his usually pale face was flushed and animated the\n"
     ]
    }
   ],
   "source": [
    "import collections\n",
    "import re\n",
    "from d2l import torch as d2l\n",
    "\n",
    "#@save\n",
    "d2l.DATA_HUB['time_machine'] = (d2l.DATA_URL + 'timemachine.txt', '090b5e7e70c295757f55df93cb0a180b9691891a')\n",
    "\n",
    "#@save\n",
    "def read_time_machine():\n",
    "    \"\"\"将时间机器数据集加载到文本行的列表中\"\"\"\n",
    "    with open(d2l.download('time_machine'), 'r') as f:\n",
    "        lines = f.readlines()\n",
    "    return [re.sub('[^A-Za-z]+', ' ', line).strip().lower() for line in lines]\n",
    "\n",
    "lines = read_time_machine()\n",
    "print(f'# 文本行数: {len(lines)}')\n",
    "print(lines[0])\n",
    "print(lines[10])"
   ]
  },
  {
   "cell_type": "markdown",
   "id": "f57696bde83caad0",
   "metadata": {},
   "source": [
    "- 2. 词元化"
   ]
  },
  {
   "cell_type": "code",
   "execution_count": 3,
   "id": "8c8c49aec2c33b23",
   "metadata": {},
   "outputs": [
    {
     "name": "stdout",
     "output_type": "stream",
     "text": [
      "['the', 'time', 'machine', 'by', 'h', 'g', 'wells']\n",
      "[]\n",
      "[]\n",
      "[]\n",
      "[]\n",
      "['i']\n",
      "[]\n",
      "[]\n",
      "['the', 'time', 'traveller', 'for', 'so', 'it', 'will', 'be', 'convenient', 'to', 'speak', 'of', 'him']\n",
      "['was', 'expounding', 'a', 'recondite', 'matter', 'to', 'us', 'his', 'grey', 'eyes', 'shone', 'and']\n",
      "['twinkled', 'and', 'his', 'usually', 'pale', 'face', 'was', 'flushed', 'and', 'animated', 'the']\n"
     ]
    }
   ],
   "source": [
    "def tokenize(lines, token='word'):\n",
    "    \"\"\"将文本行拆分为单词或字符词元\"\"\"\n",
    "    if token == 'word':\n",
    "        return [line.split() for line in lines]\n",
    "    elif token == 'char':\n",
    "        return [list(line) for line in lines]\n",
    "    else:\n",
    "        print('错误：未知词元类型：' + token)\n",
    "\n",
    "tokens = tokenize(lines)\n",
    "for i in range(11):\n",
    "    print(tokens[i])"
   ]
  },
  {
   "cell_type": "markdown",
   "id": "87a8b518cd01c690",
   "metadata": {},
   "source": [
    "- 3. 词表"
   ]
  },
  {
   "cell_type": "code",
   "execution_count": 27,
   "id": "33e71879c0383593",
   "metadata": {},
   "outputs": [],
   "source": [
    "#@save\n",
    "class Vocab:\n",
    "    \"\"\"文本词表\"\"\"\n",
    "    def __init__(self, tokens=None, min_req=0, reserved_tokens=None):\n",
    "        if tokens is None:\n",
    "            tokens = []\n",
    "        if reserved_tokens is None:\n",
    "            reserved_tokens = []\n",
    "        # 按出现评论排序\n",
    "        counter = count_corpus(tokens) # 统计单词数量 格式 {'word': count}\n",
    "        print(counter.items()) # counter.items() 将元素有key:value 格式调整为 元组格式(key,value)\n",
    "        # key=lambda x: x[1] 表示按数量作为key进行排序\n",
    "        self._token_freqs = sorted(counter.items(), key=lambda x: x[1], reverse=True)\n",
    "\n",
    "        # 未知词元索引为0\n",
    "        self.idx_to_token = ['<unk>'] + reserved_tokens\n",
    "        self.token_to_idx = {token: idx for idx, token in enumerate(self.idx_to_token)}\n",
    "\n",
    "        for token, freq in self._token_freqs:\n",
    "            if freq < min_req:\n",
    "                break\n",
    "            if token not in self.token_to_idx:\n",
    "                self.idx_to_token.append(token)\n",
    "                self.token_to_idx[token] = len(self.idx_to_token) -1\n",
    "        print(self.idx_to_token)\n",
    "        print(self.token_to_idx)\n",
    "\n",
    "    def __len__(self):\n",
    "        return len(self.idx_to_token)\n",
    "\n",
    "    def __getitem__(self, tokens):\n",
    "        # print(\"__getitem__\", tokens)\n",
    "        if not isinstance(tokens, (list, tuple)):\n",
    "            return self.token_to_idx.get(tokens, self.unk)\n",
    "        return [self.__getitem__(token) for token in tokens]\n",
    "\n",
    "    def to_token(self, indices):\n",
    "        if not isinstance(indices, (list, tuple)):\n",
    "            return self.idx_to_token[indices]\n",
    "        return [self.idx_to_token[index] for index in indices]\n",
    "\n",
    "    @property\n",
    "    def unk(self):\n",
    "        return 0\n",
    "\n",
    "    @property\n",
    "    def token_reqs(self):\n",
    "        return self._token_freqs\n",
    "\n",
    "def count_corpus(tokens):\n",
    "    \"\"\"统计词元的频率\"\"\"\n",
    "    if len(tokens) == 0 or  isinstance(tokens[0], list):\n",
    "        # 将词元列表展平成一个列表\n",
    "        tokens = [token for line in tokens for token in line]\n",
    "\n",
    "    return collections.Counter(tokens)\n",
    "\n",
    "\n",
    "# vocab = Vocab(tokens)\n",
    "# print(list(vocab.token_to_idx.items())[:10])\n",
    "\n",
    "# for i in [0, 10]:\n",
    "#     print('文本:', tokens[i])\n",
    "#     print('索引:', vocab[tokens[i]])"
   ]
  },
  {
   "cell_type": "markdown",
   "id": "b962b314db2dd75c",
   "metadata": {},
   "source": [
    "- 4. 整合所有功能\n",
    "\n",
    "1. 先读取数据 lines = read_time_machine()\n",
    "2. 再将数据按照字符分割\n",
    "3. 将分割后的数据给到 Vocab 类\n",
    "    3.1 对 tokens 按照词频进行排序\n",
    "    3.2 创建索引和词元映射\n",
    "4. 遍历tokens, 获取字符对应的索引\n",
    "5. 如果指定了 max_tokens 参数，则只返回前 max_tokens 个最频繁的词元"
   ]
  },
  {
   "cell_type": "code",
   "execution_count": 28,
   "id": "e77e55b225ba48a5",
   "metadata": {},
   "outputs": [
    {
     "name": "stdout",
     "output_type": "stream",
     "text": [
      "dict_items([('t', 13515), ('h', 8257), ('e', 17838), (' ', 29927), ('i', 10138), ('m', 4043), ('a', 11704), ('c', 3424), ('n', 9917), ('b', 1897), ('y', 2679), ('g', 3075), ('w', 3225), ('l', 6146), ('s', 8486), ('r', 7674), ('v', 1295), ('f', 3354), ('o', 9758), ('p', 2427), ('k', 1087), ('x', 236), ('u', 3805), ('d', 6337), ('z', 144), ('j', 97), ('q', 95)])\n",
      "['<unk>', ' ', 'e', 't', 'a', 'i', 'n', 'o', 's', 'h', 'r', 'd', 'l', 'm', 'u', 'c', 'f', 'w', 'g', 'y', 'p', 'b', 'v', 'k', 'x', 'z', 'j', 'q']\n",
      "{'<unk>': 0, ' ': 1, 'e': 2, 't': 3, 'a': 4, 'i': 5, 'n': 6, 'o': 7, 's': 8, 'h': 9, 'r': 10, 'd': 11, 'l': 12, 'm': 13, 'u': 14, 'c': 15, 'f': 16, 'w': 17, 'g': 18, 'y': 19, 'p': 20, 'b': 21, 'v': 22, 'k': 23, 'x': 24, 'z': 25, 'j': 26, 'q': 27}\n",
      "100\n",
      "[3, 9, 2, 1, 3, 5, 13, 2, 1, 13, 4, 15, 9, 5, 6, 2, 1, 21, 19, 1, 9, 1, 18, 1, 17, 2, 12, 12, 8, 5, 3, 9, 2, 1, 3, 5, 13, 2, 1, 3, 10, 4, 22, 2, 12, 12, 2, 10, 1, 16, 7, 10, 1, 8, 7, 1, 5, 3, 1, 17, 5, 12, 12, 1, 21, 2, 1, 15, 7, 6, 22, 2, 6, 5, 2, 6, 3, 1, 3, 7, 1, 8, 20, 2, 4, 23, 1, 7, 16, 1, 9, 5, 13, 17, 4, 8, 1, 2, 24, 20]\n",
      "28\n"
     ]
    }
   ],
   "source": [
    "#@save\n",
    "def load_corpus_time_machine(max_tokens=-1):\n",
    "    \"\"\"\"返回时光机器数据集的词元索引列表和词表\"\"\"\n",
    "    lines = read_time_machine() # 读取数据\n",
    "    tokens = tokenize(lines, 'char') # 分词, 将数据分割成词元\n",
    "    # print(tokens)\n",
    "    vocab = Vocab(tokens) # 建立词表\n",
    "    # 因为时光机器数据集中的每个文本行不一定是一个句子或一个段落，\n",
    "    # 所以将所有文本行展平到一个列表中\n",
    "    # vocab[token] 调用 Vocab 的 __getitem__ 方法\n",
    "    corpus = []\n",
    "    for line in tokens:\n",
    "        for token in line:\n",
    "            # print(vocab[token])\n",
    "            corpus.append(vocab[token]) # 将词元转换成索引\n",
    "    # corpus = [vocab[token] for line in tokens for token in line] # 将数据展平到列表中\n",
    "    if max_tokens > 0:\n",
    "        corpus = corpus[:max_tokens]\n",
    "\n",
    "    return corpus, vocab\n",
    "\n",
    "corpus, vocab = load_corpus_time_machine(100)\n",
    "print(len(corpus))\n",
    "# print(corpus)\n",
    "print(len(vocab))\n",
    "# print(vocab)"
   ]
  },
  {
   "cell_type": "code",
   "execution_count": null,
   "id": "b8fb6e3d-9dc7-466b-84c2-5a868bcbfb8f",
   "metadata": {},
   "outputs": [],
   "source": []
  }
 ],
 "metadata": {
  "kernelspec": {
   "display_name": "Python 3 (ipykernel)",
   "language": "python",
   "name": "python3"
  },
  "language_info": {
   "codemirror_mode": {
    "name": "ipython",
    "version": 3
   },
   "file_extension": ".py",
   "mimetype": "text/x-python",
   "name": "python",
   "nbconvert_exporter": "python",
   "pygments_lexer": "ipython3",
   "version": "3.12.11"
  }
 },
 "nbformat": 4,
 "nbformat_minor": 5
}
